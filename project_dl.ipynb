{
  "nbformat": 4,
  "nbformat_minor": 0,
  "metadata": {
    "accelerator": "GPU",
    "colab": {
      "name": "project_dl.ipynb",
      "provenance": [],
      "collapsed_sections": [],
      "include_colab_link": true
    },
    "kernelspec": {
      "display_name": "Python 3",
      "name": "python3"
    }
  },
  "cells": [
    {
      "cell_type": "markdown",
      "metadata": {
        "id": "view-in-github",
        "colab_type": "text"
      },
      "source": [
        "<a href=\"https://colab.research.google.com/github/shrestharushika/Medicine-Recommender-System/blob/master/project_dl.ipynb\" target=\"_parent\"><img src=\"https://colab.research.google.com/assets/colab-badge.svg\" alt=\"Open In Colab\"/></a>"
      ]
    },
    {
      "cell_type": "code",
      "metadata": {
        "colab": {
          "base_uri": "https://localhost:8080/"
        },
        "id": "ym2-HroUu6En",
        "outputId": "918b3186-b9fa-466b-ff88-f665767a061f"
      },
      "source": [
        "# Import Packages\n",
        "import pandas as pd\n",
        "import numpy as np\n",
        "import matplotlib.pyplot as plt\n",
        "import seaborn as sns\n",
        "from statsmodels.stats.proportion import proportions_chisquare\n",
        "from scipy.stats import chisquare\n",
        "import pickle\n",
        "from bs4 import BeautifulSoup\n",
        "from collections import defaultdict\n",
        "import requests\n",
        "from statsmodels.stats.multitest import fdrcorrection_twostage\n",
        "%matplotlib inline\n",
        "\n",
        "from keras.layers import LSTM, SpatialDropout1D\n",
        "from keras.layers.convolutional import Conv1D\n",
        "from keras.layers.convolutional import MaxPooling1D,MaxPooling2D"
      ],
      "execution_count": 1,
      "outputs": [
        {
          "output_type": "stream",
          "name": "stderr",
          "text": [
            "/usr/local/lib/python3.7/dist-packages/statsmodels/tools/_testing.py:19: FutureWarning: pandas.util.testing is deprecated. Use the functions in the public API at pandas.testing instead.\n",
            "  import pandas.util.testing as tm\n"
          ]
        }
      ]
    },
    {
      "cell_type": "code",
      "metadata": {
        "colab": {
          "base_uri": "https://localhost:8080/"
        },
        "id": "fXPlk-A8u_88",
        "outputId": "af19ed12-9cb2-41a0-9204-e6b05249ef8a"
      },
      "source": [
        "from google.colab import drive\n",
        "drive.mount('/content/drive')"
      ],
      "execution_count": 2,
      "outputs": [
        {
          "output_type": "stream",
          "name": "stdout",
          "text": [
            "Mounted at /content/drive\n"
          ]
        }
      ]
    },
    {
      "cell_type": "code",
      "metadata": {
        "id": "o9NJMQMlvB4S"
      },
      "source": [
        "drugs_train = pd.read_csv('/content/drive/My Drive/dataset/Drugs_train.csv')"
      ],
      "execution_count": 3,
      "outputs": []
    },
    {
      "cell_type": "markdown",
      "metadata": {
        "id": "jXgPj8reRcIf"
      },
      "source": [
        "drugs_train=drugs_train.dropna()\n",
        "drugs_train[drugs_train['condition'].str.contains(\"pain\",case=False)]"
      ]
    },
    {
      "cell_type": "code",
      "metadata": {
        "colab": {
          "base_uri": "https://localhost:8080/",
          "height": 424
        },
        "id": "cuIHhh9t1ZgS",
        "outputId": "50edece6-182e-4939-c12f-1bf1aad0a7fa"
      },
      "source": [
        "drugs_train=drugs_train.dropna() drugs_train[drugs_train['condition'].str.contains(\"pain\",case=False)]"
      ],
      "execution_count": null,
      "outputs": [
        {
          "output_type": "execute_result",
          "data": {
            "text/html": [
              "<div>\n",
              "<style scoped>\n",
              "    .dataframe tbody tr th:only-of-type {\n",
              "        vertical-align: middle;\n",
              "    }\n",
              "\n",
              "    .dataframe tbody tr th {\n",
              "        vertical-align: top;\n",
              "    }\n",
              "\n",
              "    .dataframe thead th {\n",
              "        text-align: right;\n",
              "    }\n",
              "</style>\n",
              "<table border=\"1\" class=\"dataframe\">\n",
              "  <thead>\n",
              "    <tr style=\"text-align: right;\">\n",
              "      <th></th>\n",
              "      <th>index</th>\n",
              "      <th>drugName</th>\n",
              "      <th>condition</th>\n",
              "      <th>review</th>\n",
              "      <th>rating</th>\n",
              "      <th>date</th>\n",
              "      <th>usefulCount</th>\n",
              "    </tr>\n",
              "  </thead>\n",
              "  <tbody>\n",
              "    <tr>\n",
              "      <th>1</th>\n",
              "      <td>95260</td>\n",
              "      <td>Guanfacine</td>\n",
              "      <td>ADHD</td>\n",
              "      <td>\"My son is halfway through his fourth week of ...</td>\n",
              "      <td>8</td>\n",
              "      <td>April 27, 2010</td>\n",
              "      <td>192</td>\n",
              "    </tr>\n",
              "    <tr>\n",
              "      <th>17</th>\n",
              "      <td>219869</td>\n",
              "      <td>Amitriptyline</td>\n",
              "      <td>ibromyalgia</td>\n",
              "      <td>\"I&amp;#039;ve been taking amitriptyline since Jan...</td>\n",
              "      <td>9</td>\n",
              "      <td>March 15, 2017</td>\n",
              "      <td>39</td>\n",
              "    </tr>\n",
              "    <tr>\n",
              "      <th>21</th>\n",
              "      <td>231466</td>\n",
              "      <td>Trazodone</td>\n",
              "      <td>Insomnia</td>\n",
              "      <td>\"I have insomnia, it&amp;#039;s horrible. My story...</td>\n",
              "      <td>10</td>\n",
              "      <td>April 3, 2016</td>\n",
              "      <td>43</td>\n",
              "    </tr>\n",
              "    <tr>\n",
              "      <th>27</th>\n",
              "      <td>78563</td>\n",
              "      <td>Daytrana</td>\n",
              "      <td>ADHD</td>\n",
              "      <td>\"Hi all, My son who is 12 was diagnosed when h...</td>\n",
              "      <td>10</td>\n",
              "      <td>January 12, 2017</td>\n",
              "      <td>11</td>\n",
              "    </tr>\n",
              "    <tr>\n",
              "      <th>28</th>\n",
              "      <td>132258</td>\n",
              "      <td>Ativan</td>\n",
              "      <td>Panic Disorde</td>\n",
              "      <td>\"Honestly, I have been taking ativan for 2 yea...</td>\n",
              "      <td>6</td>\n",
              "      <td>June 1, 2015</td>\n",
              "      <td>47</td>\n",
              "    </tr>\n",
              "    <tr>\n",
              "      <th>...</th>\n",
              "      <td>...</td>\n",
              "      <td>...</td>\n",
              "      <td>...</td>\n",
              "      <td>...</td>\n",
              "      <td>...</td>\n",
              "      <td>...</td>\n",
              "      <td>...</td>\n",
              "    </tr>\n",
              "    <tr>\n",
              "      <th>161277</th>\n",
              "      <td>18421</td>\n",
              "      <td>Zolpidem</td>\n",
              "      <td>Insomnia</td>\n",
              "      <td>\"I started taking this medication 10 years ago...</td>\n",
              "      <td>10</td>\n",
              "      <td>November 16, 2008</td>\n",
              "      <td>103</td>\n",
              "    </tr>\n",
              "    <tr>\n",
              "      <th>161284</th>\n",
              "      <td>121154</td>\n",
              "      <td>Venlafaxine</td>\n",
              "      <td>Panic Disorde</td>\n",
              "      <td>\"Had panic attacks and social anxiety starting...</td>\n",
              "      <td>9</td>\n",
              "      <td>November 10, 2016</td>\n",
              "      <td>25</td>\n",
              "    </tr>\n",
              "    <tr>\n",
              "      <th>161287</th>\n",
              "      <td>132177</td>\n",
              "      <td>Ativan</td>\n",
              "      <td>Anxiety</td>\n",
              "      <td>\"I was super against taking medication. I&amp;#039...</td>\n",
              "      <td>9</td>\n",
              "      <td>August 16, 2016</td>\n",
              "      <td>61</td>\n",
              "    </tr>\n",
              "    <tr>\n",
              "      <th>161292</th>\n",
              "      <td>191035</td>\n",
              "      <td>Campral</td>\n",
              "      <td>Alcohol Dependence</td>\n",
              "      <td>\"I wrote my first report in Mid-October of 201...</td>\n",
              "      <td>10</td>\n",
              "      <td>May 31, 2015</td>\n",
              "      <td>125</td>\n",
              "    </tr>\n",
              "    <tr>\n",
              "      <th>161293</th>\n",
              "      <td>127085</td>\n",
              "      <td>Metoclopramide</td>\n",
              "      <td>Nausea/Vomiting</td>\n",
              "      <td>\"I was given this in IV before surgey. I immed...</td>\n",
              "      <td>1</td>\n",
              "      <td>November 1, 2011</td>\n",
              "      <td>34</td>\n",
              "    </tr>\n",
              "  </tbody>\n",
              "</table>\n",
              "<p>46548 rows × 7 columns</p>\n",
              "</div>"
            ],
            "text/plain": [
              "         index        drugName  ...               date usefulCount\n",
              "1        95260      Guanfacine  ...     April 27, 2010         192\n",
              "17      219869   Amitriptyline  ...     March 15, 2017          39\n",
              "21      231466       Trazodone  ...      April 3, 2016          43\n",
              "27       78563        Daytrana  ...   January 12, 2017          11\n",
              "28      132258          Ativan  ...       June 1, 2015          47\n",
              "...        ...             ...  ...                ...         ...\n",
              "161277   18421        Zolpidem  ...  November 16, 2008         103\n",
              "161284  121154     Venlafaxine  ...  November 10, 2016          25\n",
              "161287  132177          Ativan  ...    August 16, 2016          61\n",
              "161292  191035         Campral  ...       May 31, 2015         125\n",
              "161293  127085  Metoclopramide  ...   November 1, 2011          34\n",
              "\n",
              "[46548 rows x 7 columns]"
            ]
          },
          "metadata": {
            "tags": []
          },
          "execution_count": 9
        }
      ]
    },
    {
      "cell_type": "code",
      "metadata": {
        "id": "hVWIS6-xvJ-V",
        "colab": {
          "base_uri": "https://localhost:8080/"
        },
        "outputId": "1fbfa62c-2e83-4531-be70-fedc297c2f14"
      },
      "source": [
        "drugs_train.shape"
      ],
      "execution_count": 4,
      "outputs": [
        {
          "output_type": "execute_result",
          "data": {
            "text/plain": [
              "(161297, 7)"
            ]
          },
          "metadata": {},
          "execution_count": 4
        }
      ]
    },
    {
      "cell_type": "code",
      "metadata": {
        "id": "iMAqSUKEvRUf"
      },
      "source": [
        "drugs_test= pd.read_csv('/content/drive/My Drive/dataset/drugsComTest_raw.tsv',sep='\\t',index_col=0)"
      ],
      "execution_count": 5,
      "outputs": []
    },
    {
      "cell_type": "code",
      "metadata": {
        "id": "fJFU64y4vVFH"
      },
      "source": [
        "drugs_test.shape"
      ],
      "execution_count": null,
      "outputs": []
    },
    {
      "cell_type": "code",
      "metadata": {
        "colab": {
          "base_uri": "https://localhost:8080/",
          "height": 202
        },
        "id": "gFjDfRFPvXvA",
        "outputId": "be01e613-7040-4ed0-b152-28857dc4b457"
      },
      "source": [
        "drugs_train.head()"
      ],
      "execution_count": null,
      "outputs": [
        {
          "output_type": "execute_result",
          "data": {
            "text/html": [
              "<div>\n",
              "<style scoped>\n",
              "    .dataframe tbody tr th:only-of-type {\n",
              "        vertical-align: middle;\n",
              "    }\n",
              "\n",
              "    .dataframe tbody tr th {\n",
              "        vertical-align: top;\n",
              "    }\n",
              "\n",
              "    .dataframe thead th {\n",
              "        text-align: right;\n",
              "    }\n",
              "</style>\n",
              "<table border=\"1\" class=\"dataframe\">\n",
              "  <thead>\n",
              "    <tr style=\"text-align: right;\">\n",
              "      <th></th>\n",
              "      <th>index</th>\n",
              "      <th>drugName</th>\n",
              "      <th>condition</th>\n",
              "      <th>review</th>\n",
              "      <th>rating</th>\n",
              "      <th>date</th>\n",
              "      <th>usefulCount</th>\n",
              "    </tr>\n",
              "  </thead>\n",
              "  <tbody>\n",
              "    <tr>\n",
              "      <th>0</th>\n",
              "      <td>206461</td>\n",
              "      <td>Valsartan</td>\n",
              "      <td>Left Ventricular Dysfunction</td>\n",
              "      <td>\"It has no side effect, I take it in combinati...</td>\n",
              "      <td>9</td>\n",
              "      <td>May 20, 2012</td>\n",
              "      <td>27</td>\n",
              "    </tr>\n",
              "    <tr>\n",
              "      <th>1</th>\n",
              "      <td>95260</td>\n",
              "      <td>Guanfacine</td>\n",
              "      <td>ADHD</td>\n",
              "      <td>\"My son is halfway through his fourth week of ...</td>\n",
              "      <td>8</td>\n",
              "      <td>April 27, 2010</td>\n",
              "      <td>192</td>\n",
              "    </tr>\n",
              "    <tr>\n",
              "      <th>2</th>\n",
              "      <td>92703</td>\n",
              "      <td>Lybrel</td>\n",
              "      <td>Birth Control</td>\n",
              "      <td>\"I used to take another oral contraceptive, wh...</td>\n",
              "      <td>5</td>\n",
              "      <td>December 14, 2009</td>\n",
              "      <td>17</td>\n",
              "    </tr>\n",
              "    <tr>\n",
              "      <th>3</th>\n",
              "      <td>138000</td>\n",
              "      <td>Ortho Evra</td>\n",
              "      <td>Birth Control</td>\n",
              "      <td>\"This is my first time using any form of birth...</td>\n",
              "      <td>8</td>\n",
              "      <td>November 3, 2015</td>\n",
              "      <td>10</td>\n",
              "    </tr>\n",
              "    <tr>\n",
              "      <th>4</th>\n",
              "      <td>35696</td>\n",
              "      <td>Buprenorphine / naloxone</td>\n",
              "      <td>Opiate Dependence</td>\n",
              "      <td>\"Suboxone has completely turned my life around...</td>\n",
              "      <td>9</td>\n",
              "      <td>November 27, 2016</td>\n",
              "      <td>37</td>\n",
              "    </tr>\n",
              "  </tbody>\n",
              "</table>\n",
              "</div>"
            ],
            "text/plain": [
              "    index                  drugName  ...               date usefulCount\n",
              "0  206461                 Valsartan  ...       May 20, 2012          27\n",
              "1   95260                Guanfacine  ...     April 27, 2010         192\n",
              "2   92703                    Lybrel  ...  December 14, 2009          17\n",
              "3  138000                Ortho Evra  ...   November 3, 2015          10\n",
              "4   35696  Buprenorphine / naloxone  ...  November 27, 2016          37\n",
              "\n",
              "[5 rows x 7 columns]"
            ]
          },
          "metadata": {
            "tags": []
          },
          "execution_count": 8
        }
      ]
    },
    {
      "cell_type": "code",
      "metadata": {
        "colab": {
          "base_uri": "https://localhost:8080/",
          "height": 202
        },
        "id": "e7jU-pR5vaWh",
        "outputId": "fa782d6c-d81e-47ef-e2dc-f6c74aabc0e3"
      },
      "source": [
        "drugs_train.tail()"
      ],
      "execution_count": null,
      "outputs": [
        {
          "output_type": "execute_result",
          "data": {
            "text/html": [
              "<div>\n",
              "<style scoped>\n",
              "    .dataframe tbody tr th:only-of-type {\n",
              "        vertical-align: middle;\n",
              "    }\n",
              "\n",
              "    .dataframe tbody tr th {\n",
              "        vertical-align: top;\n",
              "    }\n",
              "\n",
              "    .dataframe thead th {\n",
              "        text-align: right;\n",
              "    }\n",
              "</style>\n",
              "<table border=\"1\" class=\"dataframe\">\n",
              "  <thead>\n",
              "    <tr style=\"text-align: right;\">\n",
              "      <th></th>\n",
              "      <th>index</th>\n",
              "      <th>drugName</th>\n",
              "      <th>condition</th>\n",
              "      <th>review</th>\n",
              "      <th>rating</th>\n",
              "      <th>date</th>\n",
              "      <th>usefulCount</th>\n",
              "    </tr>\n",
              "  </thead>\n",
              "  <tbody>\n",
              "    <tr>\n",
              "      <th>161292</th>\n",
              "      <td>191035</td>\n",
              "      <td>Campral</td>\n",
              "      <td>Alcohol Dependence</td>\n",
              "      <td>\"I wrote my first report in Mid-October of 201...</td>\n",
              "      <td>10</td>\n",
              "      <td>May 31, 2015</td>\n",
              "      <td>125</td>\n",
              "    </tr>\n",
              "    <tr>\n",
              "      <th>161293</th>\n",
              "      <td>127085</td>\n",
              "      <td>Metoclopramide</td>\n",
              "      <td>Nausea/Vomiting</td>\n",
              "      <td>\"I was given this in IV before surgey. I immed...</td>\n",
              "      <td>1</td>\n",
              "      <td>November 1, 2011</td>\n",
              "      <td>34</td>\n",
              "    </tr>\n",
              "    <tr>\n",
              "      <th>161294</th>\n",
              "      <td>187382</td>\n",
              "      <td>Orencia</td>\n",
              "      <td>Rheumatoid Arthritis</td>\n",
              "      <td>\"Limited improvement after 4 months, developed...</td>\n",
              "      <td>2</td>\n",
              "      <td>March 15, 2014</td>\n",
              "      <td>35</td>\n",
              "    </tr>\n",
              "    <tr>\n",
              "      <th>161295</th>\n",
              "      <td>47128</td>\n",
              "      <td>Thyroid desiccated</td>\n",
              "      <td>Underactive Thyroid</td>\n",
              "      <td>\"I&amp;#039;ve been on thyroid medication 49 years...</td>\n",
              "      <td>10</td>\n",
              "      <td>September 19, 2015</td>\n",
              "      <td>79</td>\n",
              "    </tr>\n",
              "    <tr>\n",
              "      <th>161296</th>\n",
              "      <td>215220</td>\n",
              "      <td>Lubiprostone</td>\n",
              "      <td>Constipation, Chronic</td>\n",
              "      <td>\"I&amp;#039;ve had chronic constipation all my adu...</td>\n",
              "      <td>9</td>\n",
              "      <td>December 13, 2014</td>\n",
              "      <td>116</td>\n",
              "    </tr>\n",
              "  </tbody>\n",
              "</table>\n",
              "</div>"
            ],
            "text/plain": [
              "         index            drugName  ...                date usefulCount\n",
              "161292  191035             Campral  ...        May 31, 2015         125\n",
              "161293  127085      Metoclopramide  ...    November 1, 2011          34\n",
              "161294  187382             Orencia  ...      March 15, 2014          35\n",
              "161295   47128  Thyroid desiccated  ...  September 19, 2015          79\n",
              "161296  215220        Lubiprostone  ...   December 13, 2014         116\n",
              "\n",
              "[5 rows x 7 columns]"
            ]
          },
          "metadata": {
            "tags": []
          },
          "execution_count": 9
        }
      ]
    },
    {
      "cell_type": "code",
      "metadata": {
        "colab": {
          "base_uri": "https://localhost:8080/"
        },
        "id": "OFbvjEzAvb-X",
        "outputId": "cc47d828-5c7e-4372-84cb-89022f3fe690"
      },
      "source": [
        "\n",
        "drugs_train.info()"
      ],
      "execution_count": null,
      "outputs": [
        {
          "output_type": "stream",
          "text": [
            "<class 'pandas.core.frame.DataFrame'>\n",
            "RangeIndex: 161297 entries, 0 to 161296\n",
            "Data columns (total 7 columns):\n",
            " #   Column       Non-Null Count   Dtype \n",
            "---  ------       --------------   ----- \n",
            " 0   index        161297 non-null  int64 \n",
            " 1   drugName     161297 non-null  object\n",
            " 2   condition    160398 non-null  object\n",
            " 3   review       161297 non-null  object\n",
            " 4   rating       161297 non-null  int64 \n",
            " 5   date         161297 non-null  object\n",
            " 6   usefulCount  161297 non-null  int64 \n",
            "dtypes: int64(3), object(4)\n",
            "memory usage: 8.6+ MB\n"
          ],
          "name": "stdout"
        }
      ]
    },
    {
      "cell_type": "code",
      "metadata": {
        "colab": {
          "base_uri": "https://localhost:8080/",
          "height": 294
        },
        "id": "AGMFChdZvdnZ",
        "outputId": "97e5dd16-4a36-4c62-f1a0-9298cb8589a4"
      },
      "source": [
        "drugs_train.describe()"
      ],
      "execution_count": null,
      "outputs": [
        {
          "output_type": "execute_result",
          "data": {
            "text/html": [
              "<div>\n",
              "<style scoped>\n",
              "    .dataframe tbody tr th:only-of-type {\n",
              "        vertical-align: middle;\n",
              "    }\n",
              "\n",
              "    .dataframe tbody tr th {\n",
              "        vertical-align: top;\n",
              "    }\n",
              "\n",
              "    .dataframe thead th {\n",
              "        text-align: right;\n",
              "    }\n",
              "</style>\n",
              "<table border=\"1\" class=\"dataframe\">\n",
              "  <thead>\n",
              "    <tr style=\"text-align: right;\">\n",
              "      <th></th>\n",
              "      <th>index</th>\n",
              "      <th>rating</th>\n",
              "      <th>usefulCount</th>\n",
              "    </tr>\n",
              "  </thead>\n",
              "  <tbody>\n",
              "    <tr>\n",
              "      <th>count</th>\n",
              "      <td>161297.000000</td>\n",
              "      <td>161297.000000</td>\n",
              "      <td>161297.000000</td>\n",
              "    </tr>\n",
              "    <tr>\n",
              "      <th>mean</th>\n",
              "      <td>115923.585305</td>\n",
              "      <td>6.994377</td>\n",
              "      <td>28.004755</td>\n",
              "    </tr>\n",
              "    <tr>\n",
              "      <th>std</th>\n",
              "      <td>67004.445170</td>\n",
              "      <td>3.272329</td>\n",
              "      <td>36.403742</td>\n",
              "    </tr>\n",
              "    <tr>\n",
              "      <th>min</th>\n",
              "      <td>2.000000</td>\n",
              "      <td>1.000000</td>\n",
              "      <td>0.000000</td>\n",
              "    </tr>\n",
              "    <tr>\n",
              "      <th>25%</th>\n",
              "      <td>58063.000000</td>\n",
              "      <td>5.000000</td>\n",
              "      <td>6.000000</td>\n",
              "    </tr>\n",
              "    <tr>\n",
              "      <th>50%</th>\n",
              "      <td>115744.000000</td>\n",
              "      <td>8.000000</td>\n",
              "      <td>16.000000</td>\n",
              "    </tr>\n",
              "    <tr>\n",
              "      <th>75%</th>\n",
              "      <td>173776.000000</td>\n",
              "      <td>10.000000</td>\n",
              "      <td>36.000000</td>\n",
              "    </tr>\n",
              "    <tr>\n",
              "      <th>max</th>\n",
              "      <td>232291.000000</td>\n",
              "      <td>10.000000</td>\n",
              "      <td>1291.000000</td>\n",
              "    </tr>\n",
              "  </tbody>\n",
              "</table>\n",
              "</div>"
            ],
            "text/plain": [
              "               index         rating    usefulCount\n",
              "count  161297.000000  161297.000000  161297.000000\n",
              "mean   115923.585305       6.994377      28.004755\n",
              "std     67004.445170       3.272329      36.403742\n",
              "min         2.000000       1.000000       0.000000\n",
              "25%     58063.000000       5.000000       6.000000\n",
              "50%    115744.000000       8.000000      16.000000\n",
              "75%    173776.000000      10.000000      36.000000\n",
              "max    232291.000000      10.000000    1291.000000"
            ]
          },
          "metadata": {
            "tags": []
          },
          "execution_count": 10
        }
      ]
    },
    {
      "cell_type": "code",
      "metadata": {
        "id": "UktMmz0evfab"
      },
      "source": [
        "#Creating Date Field\n",
        "drugs_train['date'] = pd.to_datetime(drugs_train['date'])"
      ],
      "execution_count": null,
      "outputs": []
    },
    {
      "cell_type": "code",
      "metadata": {
        "colab": {
          "base_uri": "https://localhost:8080/",
          "height": 202
        },
        "id": "TfokVE4gvhgS",
        "outputId": "b731ec54-5aad-4500-df37-38c6d5cef52f"
      },
      "source": [
        "drugs_train.head()"
      ],
      "execution_count": null,
      "outputs": [
        {
          "output_type": "execute_result",
          "data": {
            "text/html": [
              "<div>\n",
              "<style scoped>\n",
              "    .dataframe tbody tr th:only-of-type {\n",
              "        vertical-align: middle;\n",
              "    }\n",
              "\n",
              "    .dataframe tbody tr th {\n",
              "        vertical-align: top;\n",
              "    }\n",
              "\n",
              "    .dataframe thead th {\n",
              "        text-align: right;\n",
              "    }\n",
              "</style>\n",
              "<table border=\"1\" class=\"dataframe\">\n",
              "  <thead>\n",
              "    <tr style=\"text-align: right;\">\n",
              "      <th></th>\n",
              "      <th>index</th>\n",
              "      <th>drugName</th>\n",
              "      <th>condition</th>\n",
              "      <th>review</th>\n",
              "      <th>rating</th>\n",
              "      <th>date</th>\n",
              "      <th>usefulCount</th>\n",
              "    </tr>\n",
              "  </thead>\n",
              "  <tbody>\n",
              "    <tr>\n",
              "      <th>0</th>\n",
              "      <td>206461</td>\n",
              "      <td>Valsartan</td>\n",
              "      <td>Left Ventricular Dysfunction</td>\n",
              "      <td>\"It has no side effect, I take it in combinati...</td>\n",
              "      <td>9</td>\n",
              "      <td>2012-05-20</td>\n",
              "      <td>27</td>\n",
              "    </tr>\n",
              "    <tr>\n",
              "      <th>1</th>\n",
              "      <td>95260</td>\n",
              "      <td>Guanfacine</td>\n",
              "      <td>ADHD</td>\n",
              "      <td>\"My son is halfway through his fourth week of ...</td>\n",
              "      <td>8</td>\n",
              "      <td>2010-04-27</td>\n",
              "      <td>192</td>\n",
              "    </tr>\n",
              "    <tr>\n",
              "      <th>2</th>\n",
              "      <td>92703</td>\n",
              "      <td>Lybrel</td>\n",
              "      <td>Birth Control</td>\n",
              "      <td>\"I used to take another oral contraceptive, wh...</td>\n",
              "      <td>5</td>\n",
              "      <td>2009-12-14</td>\n",
              "      <td>17</td>\n",
              "    </tr>\n",
              "    <tr>\n",
              "      <th>3</th>\n",
              "      <td>138000</td>\n",
              "      <td>Ortho Evra</td>\n",
              "      <td>Birth Control</td>\n",
              "      <td>\"This is my first time using any form of birth...</td>\n",
              "      <td>8</td>\n",
              "      <td>2015-11-03</td>\n",
              "      <td>10</td>\n",
              "    </tr>\n",
              "    <tr>\n",
              "      <th>4</th>\n",
              "      <td>35696</td>\n",
              "      <td>Buprenorphine / naloxone</td>\n",
              "      <td>Opiate Dependence</td>\n",
              "      <td>\"Suboxone has completely turned my life around...</td>\n",
              "      <td>9</td>\n",
              "      <td>2016-11-27</td>\n",
              "      <td>37</td>\n",
              "    </tr>\n",
              "  </tbody>\n",
              "</table>\n",
              "</div>"
            ],
            "text/plain": [
              "    index                  drugName  ...       date usefulCount\n",
              "0  206461                 Valsartan  ... 2012-05-20          27\n",
              "1   95260                Guanfacine  ... 2010-04-27         192\n",
              "2   92703                    Lybrel  ... 2009-12-14          17\n",
              "3  138000                Ortho Evra  ... 2015-11-03          10\n",
              "4   35696  Buprenorphine / naloxone  ... 2016-11-27          37\n",
              "\n",
              "[5 rows x 7 columns]"
            ]
          },
          "metadata": {
            "tags": []
          },
          "execution_count": 12
        }
      ]
    },
    {
      "cell_type": "markdown",
      "metadata": {
        "id": "zdLhymadvm5E"
      },
      "source": [
        "### **EDA**"
      ]
    },
    {
      "cell_type": "code",
      "metadata": {
        "colab": {
          "base_uri": "https://localhost:8080/",
          "height": 521
        },
        "id": "Je-AW_M6vjaH",
        "outputId": "096ed845-927c-4ce2-e951-7836556d4bf9"
      },
      "source": [
        "# Drugs available for top conditions\n",
        "df = drugs_train.groupby(['condition'])['drugName'].nunique().sort_values(ascending = False).reset_index().head(10)\n",
        "plt.rcParams['figure.figsize'] = [16, 6]\n",
        "plt.bar(x=df['condition'],height = df['drugName'],color='y')\n",
        "plt.xticks(rotation=90)\n",
        "plt.title('Drugs per Conditions', fontsize = 14)\n",
        "plt.xlabel('Conditions', fontsize = 14)\n",
        "plt.ylabel('Number of Drugs', fontsize = 14)\n",
        "plt.xticks(rotation=70)\n",
        "plt.xticks(fontsize=12)\n",
        "plt.yticks(fontsize=12)\n",
        "plt.show()"
      ],
      "execution_count": null,
      "outputs": [
        {
          "output_type": "display_data",
          "data": {
            "image/png": "[encoded data removed]",
            "text/plain": [
              "<Figure size 1152x432 with 1 Axes>"
            ]
          },
          "metadata": {
            "tags": []
          }
        }
      ]
    },
    {
      "cell_type": "code",
      "metadata": {
        "colab": {
          "base_uri": "https://localhost:8080/",
          "height": 592
        },
        "id": "b3blyEBUvw_k",
        "outputId": "ca980fed-f412-4da3-971b-4a7bd0605ae9"
      },
      "source": [
        "# Number of conditions present per drug\n",
        "df = drugs_train.groupby(['drugName'])['condition'].nunique().sort_values(ascending = False).reset_index().head(10)\n",
        "plt.rcParams['figure.figsize'] = [16, 8]\n",
        "plt.bar(x=df['drugName'],height = df['condition'])\n",
        "\n",
        "plt.title('Conditions Present per Drug', fontsize = 14)\n",
        "plt.xlabel('Drug Name', fontsize = 14)\n",
        "plt.ylabel('Number of Conditions', fontsize = 14)\n",
        "plt.xticks(rotation=70)\n",
        "plt.xticks(fontsize=12)\n",
        "plt.yticks(fontsize=12)\n",
        "plt.show()"
      ],
      "execution_count": null,
      "outputs": [
        {
          "output_type": "display_data",
          "data": {
            "image/png": "[encoded data removed]",
            "text/plain": [
              "<Figure size 1152x576 with 1 Axes>"
            ]
          },
          "metadata": {
            "tags": []
          }
        }
      ]
    },
    {
      "cell_type": "code",
      "metadata": {
        "colab": {
          "base_uri": "https://localhost:8080/",
          "height": 610
        },
        "id": "U0OGpvdCvy5Z",
        "outputId": "8ee4bace-545b-4c88-c807-4684f678293b"
      },
      "source": [
        "# Top drugs with ratig 1/10\n",
        "sns.set(font_scale = 1.2, style = 'whitegrid')\n",
        "plt.rcParams['figure.figsize'] = [16, 6]\n",
        "\n",
        "rating = dict(drugs_train.loc[drugs_train.rating == 1, \"drugName\"].value_counts())\n",
        "drugname = list(rating.keys())\n",
        "drug_rating = list(rating.values())\n",
        "\n",
        "sns_rating = sns.barplot(x = drugname[0:10], y = drug_rating[0:10], palette = 'spring')\n",
        "\n",
        "sns_rating.set(title = 'Top 10 drugs with 1/10 rating', ylabel = 'Number of Ratings', xlabel = \"Drug Names\")\n",
        "\n",
        "plt.setp(sns_rating.get_xticklabels(), rotation=70);"
      ],
      "execution_count": null,
      "outputs": [
        {
          "output_type": "display_data",
          "data": {
            "image/png": "[encoded data removed]",
            "text/plain": [
              "<Figure size 1152x432 with 1 Axes>"
            ]
          },
          "metadata": {
            "tags": []
          }
        }
      ]
    },
    {
      "cell_type": "code",
      "metadata": {
        "colab": {
          "base_uri": "https://localhost:8080/",
          "height": 609
        },
        "id": "KStMjwjWv00j",
        "outputId": "c282f67c-8cf8-4e76-f51b-7296c6e69a2d"
      },
      "source": [
        "# Top10 drugs with the rating 10/10\n",
        "\n",
        "sns.set(font_scale = 1.2, style = 'whitegrid')\n",
        "plt.rcParams['figure.figsize'] = [16, 6]\n",
        "\n",
        "rating = dict(drugs_train.loc[drugs_train.rating == 10, \"drugName\"].value_counts())\n",
        "drugname = list(rating.keys())\n",
        "drug_rating = list(rating.values())\n",
        "\n",
        "sns_rating = sns.barplot(x = drugname[0:10], y = drug_rating[0:10])\n",
        "\n",
        "sns_rating.set(title = 'Top 10 drugs with 10/10 rating', ylabel = 'NUmber of Ratings', xlabel = \"Drug Names\")\n",
        "plt.setp(sns_rating.get_xticklabels(), rotation=70);"
      ],
      "execution_count": null,
      "outputs": [
        {
          "output_type": "display_data",
          "data": {
            "image/png": "[encoded data removed]",
            "text/plain": [
              "<Figure size 1152x432 with 1 Axes>"
            ]
          },
          "metadata": {
            "tags": []
          }
        }
      ]
    },
    {
      "cell_type": "code",
      "metadata": {
        "colab": {
          "base_uri": "https://localhost:8080/",
          "height": 601
        },
        "id": "BAmiuFS8v3BX",
        "outputId": "42660b80-aff4-4d6d-d654-f5616c931e7e"
      },
      "source": [
        "# Top Conditions based on Reviews\n",
        "df = drugs_train['condition'].value_counts().head(10).reset_index()\n",
        "df.columns = ['condition','count']\n",
        "plt.rcParams['figure.figsize'] = [18, 8]\n",
        "plt.bar(x=df['condition'],height = df['count'], color=plt.cm.Paired(np.arange(len(df))))\n",
        "plt.xticks(rotation=70)\n",
        "plt.title('Most Common Conditions based on Reviews', fontsize = 14)\n",
        "plt.xlabel('Condition', fontsize = 14)\n",
        "plt.ylabel('Count', fontsize = 14)\n",
        "plt.xticks(fontsize=12)\n",
        "plt.yticks(fontsize=12)\n",
        "plt.show()"
      ],
      "execution_count": null,
      "outputs": [
        {
          "output_type": "display_data",
          "data": {
            "image/png": "[encoded data removed]",
            "text/plain": [
              "<Figure size 1296x576 with 1 Axes>"
            ]
          },
          "metadata": {
            "tags": []
          }
        }
      ]
    },
    {
      "cell_type": "code",
      "metadata": {
        "id": "GRyR9Vy_v49l"
      },
      "source": [
        "# Extract Year and Month\n",
        "\n",
        "drugs_train['year'] = drugs_train['date'].dt.year\n",
        "drugs_train['month'] = drugs_train['date'].dt.month"
      ],
      "execution_count": null,
      "outputs": []
    },
    {
      "cell_type": "code",
      "metadata": {
        "colab": {
          "base_uri": "https://localhost:8080/",
          "height": 577
        },
        "id": "BQYJ1RUsv6w5",
        "outputId": "cfba53d9-dd3b-4d0c-db57-8276e47d2c16"
      },
      "source": [
        "# Distribution of reviews in each year]\n",
        "\n",
        "plt.rcParams['figure.figsize'] = (16, 8)\n",
        "sns.countplot(drugs_train['year'])\n",
        "plt.title('Year wise Review Distribution', fontsize = 14)\n",
        "plt.xlabel('Year', fontsize = 14)\n",
        "plt.ylabel('Count', fontsize = 14)\n",
        "plt.xticks(fontsize=12)\n",
        "plt.yticks(fontsize=12)\n",
        "plt.show()"
      ],
      "execution_count": null,
      "outputs": [
        {
          "output_type": "stream",
          "text": [
            "/usr/local/lib/python3.7/dist-packages/seaborn/_decorators.py:43: FutureWarning: Pass the following variable as a keyword arg: x. From version 0.12, the only valid positional argument will be `data`, and passing other arguments without an explicit keyword will result in an error or misinterpretation.\n",
            "  FutureWarning\n"
          ],
          "name": "stderr"
        },
        {
          "output_type": "display_data",
          "data": {
            "image/png": "[encoded data removed]",
            "text/plain": [
              "<Figure size 1152x576 with 1 Axes>"
            ]
          },
          "metadata": {
            "tags": []
          }
        }
      ]
    },
    {
      "cell_type": "code",
      "metadata": {
        "id": "ma013rsYv8lF"
      },
      "source": [
        "drugs_train[\"Word Count\"] = drugs_train['review'].str.split().str.len()"
      ],
      "execution_count": null,
      "outputs": []
    },
    {
      "cell_type": "code",
      "metadata": {
        "colab": {
          "base_uri": "https://localhost:8080/"
        },
        "id": "ckgLNgncwAOD",
        "outputId": "611a1cf9-5ec9-49cf-fd70-7f2cd5e5842d"
      },
      "source": [
        "drugs_train['Word Count'].describe()"
      ],
      "execution_count": null,
      "outputs": [
        {
          "output_type": "execute_result",
          "data": {
            "text/plain": [
              "count    161297.000000\n",
              "mean         84.699802\n",
              "std          45.044833\n",
              "min           1.000000\n",
              "25%          48.000000\n",
              "50%          84.000000\n",
              "75%         126.000000\n",
              "max        1894.000000\n",
              "Name: Word Count, dtype: float64"
            ]
          },
          "metadata": {
            "tags": []
          },
          "execution_count": 20
        }
      ]
    },
    {
      "cell_type": "code",
      "metadata": {
        "colab": {
          "base_uri": "https://localhost:8080/",
          "height": 343
        },
        "id": "7UcybxaxwCQD",
        "outputId": "9b7f11c7-bdad-4822-bb82-57171514cb7f"
      },
      "source": [
        "plt.figure(figsize=(4,4))\n",
        "sns.boxplot(drugs_train['Word Count'])\n",
        "plt.xlabel('Word Count', fontsize = 14)\n",
        "plt.xticks(fontsize=14)\n",
        "plt.show()"
      ],
      "execution_count": null,
      "outputs": [
        {
          "output_type": "stream",
          "text": [
            "/usr/local/lib/python3.7/dist-packages/seaborn/_decorators.py:43: FutureWarning: Pass the following variable as a keyword arg: x. From version 0.12, the only valid positional argument will be `data`, and passing other arguments without an explicit keyword will result in an error or misinterpretation.\n",
            "  FutureWarning\n"
          ],
          "name": "stderr"
        },
        {
          "output_type": "display_data",
          "data": {
            "image/png": "[encoded data removed]",
            "text/plain": [
              "<Figure size 288x288 with 1 Axes>"
            ]
          },
          "metadata": {
            "tags": []
          }
        }
      ]
    },
    {
      "cell_type": "code",
      "metadata": {
        "colab": {
          "base_uri": "https://localhost:8080/",
          "height": 468
        },
        "id": "6NZdmOkowD7Y",
        "outputId": "5978d62e-1934-4b08-f475-c409554ac75e"
      },
      "source": [
        "# Month Wise Review Count\n",
        "\n",
        "cnt_srs = drugs_train['date'].dt.month.value_counts()\n",
        "cnt_srs = cnt_srs.sort_index()\n",
        "plt.figure(figsize=(16,6))\n",
        "sns.barplot(cnt_srs.index, cnt_srs.values, alpha=0.8, color='y')\n",
        "plt.xticks(rotation='vertical')\n",
        "plt.xlabel('Month', fontsize=14)\n",
        "plt.ylabel('Count', fontsize=14)\n",
        "plt.title(\"Month wise Review Count\")\n",
        "plt.xticks(rotation=360)\n",
        "plt.show()"
      ],
      "execution_count": null,
      "outputs": [
        {
          "output_type": "stream",
          "text": [
            "/usr/local/lib/python3.7/dist-packages/seaborn/_decorators.py:43: FutureWarning: Pass the following variables as keyword args: x, y. From version 0.12, the only valid positional argument will be `data`, and passing other arguments without an explicit keyword will result in an error or misinterpretation.\n",
            "  FutureWarning\n"
          ],
          "name": "stderr"
        },
        {
          "output_type": "display_data",
          "data": {
            "image/png": "[encoded data removed]",
            "text/plain": [
              "<Figure size 1152x432 with 1 Axes>"
            ]
          },
          "metadata": {
            "tags": []
          }
        }
      ]
    },
    {
      "cell_type": "code",
      "metadata": {
        "colab": {
          "base_uri": "https://localhost:8080/",
          "height": 480
        },
        "id": "oSk7UdZpwIKZ",
        "outputId": "ad3f0f05-e6ca-4583-d5d7-bdcfc0b22d58"
      },
      "source": [
        "# Missing Values\n",
        "\n",
        "percent = (drugs_train.isnull().sum()).sort_values(ascending=False)\n",
        "percent.plot(kind=\"bar\", figsize = (16,6), fontsize = 14, color='b')\n",
        "plt.xlabel(\"Column Names\", fontsize = 14)\n",
        "plt.ylabel(\"Count\", fontsize = 14)\n",
        "plt.title(\"Total Missing Value \", fontsize = 14)\n",
        "plt.xticks(fontsize=13)\n",
        "plt.yticks(fontsize=12)\n",
        "plt.xticks(rotation=70)\n",
        "plt.show()"
      ],
      "execution_count": null,
      "outputs": [
        {
          "output_type": "display_data",
          "data": {
            "image/png": "[encoded data removed]",
            "text/plain": [
              "<Figure size 1152x432 with 1 Axes>"
            ]
          },
          "metadata": {
            "tags": []
          }
        }
      ]
    },
    {
      "cell_type": "code",
      "metadata": {
        "colab": {
          "base_uri": "https://localhost:8080/"
        },
        "id": "bHeUKUZ-wK3K",
        "outputId": "10662ab5-6431-4fd1-b3a5-ef2e8236a5b8"
      },
      "source": [
        "drugs_train.isnull().sum()"
      ],
      "execution_count": null,
      "outputs": [
        {
          "output_type": "execute_result",
          "data": {
            "text/plain": [
              "index            0\n",
              "drugName         0\n",
              "condition      899\n",
              "review           0\n",
              "rating           0\n",
              "date             0\n",
              "usefulCount      0\n",
              "dtype: int64"
            ]
          },
          "metadata": {
            "tags": []
          },
          "execution_count": 13
        }
      ]
    },
    {
      "cell_type": "code",
      "metadata": {
        "id": "zBj31lySnJ9N"
      },
      "source": [
        "from wordcloud import WordCloud\n",
        "from collections import Counter"
      ],
      "execution_count": null,
      "outputs": []
    },
    {
      "cell_type": "code",
      "metadata": {
        "colab": {
          "base_uri": "https://localhost:8080/",
          "height": 574
        },
        "id": "r8AsPGSmnLa_",
        "outputId": "6ccf00d0-3e3c-471d-bfd6-2d5d477e512f"
      },
      "source": [
        "condition=Counter(drugs_train['condition'])\n",
        "drugs=drugs_train[drugs_train['condition']==\"Birth Control\"]['drugName']\n",
        "\n",
        "dictionary=Counter(drugs)\n",
        "wordcloud=WordCloud(width=1280,height=1280,random_state=42,colormap='magma',background_color='white').generate_from_frequencies(dictionary)\n",
        "plt.figure(figsize=(10,10))\n",
        "plt.imshow(wordcloud)\n",
        "plt.axis(\"off\")\n",
        "plt.show()"
      ],
      "execution_count": null,
      "outputs": [
        {
          "output_type": "display_data",
          "data": {
            "image/png": "[encoded data removed]",
            "text/plain": [
              "<Figure size 720x720 with 1 Axes>"
            ]
          },
          "metadata": {
            "tags": []
          }
        }
      ]
    },
    {
      "cell_type": "markdown",
      "metadata": {
        "id": "h8ey4ibRnXMe"
      },
      "source": [
        "# Users found Etonogestrel and Levonogestrel useful"
      ]
    },
    {
      "cell_type": "code",
      "metadata": {
        "colab": {
          "base_uri": "https://localhost:8080/"
        },
        "id": "5OZBRmJkxX1M",
        "outputId": "5b5b2cb2-efd6-4545-e615-70b869b3f323"
      },
      "source": [
        "drugs_train['condition'].isnull().sum()"
      ],
      "execution_count": null,
      "outputs": [
        {
          "output_type": "execute_result",
          "data": {
            "text/plain": [
              "899"
            ]
          },
          "metadata": {
            "tags": []
          },
          "execution_count": 25
        }
      ]
    },
    {
      "cell_type": "code",
      "metadata": {
        "id": "WeSy3Hg4yI23"
      },
      "source": [
        "# Load dataset.\n",
        "train_df =  pd.read_csv('/content/drive/My Drive/dataset/Drugs_train.csv')\n",
        "test_df = pd.read_csv('/content/drive/My Drive/dataset/drugsComTest_raw.tsv',sep='\\t',index_col=0)"
      ],
      "execution_count": 6,
      "outputs": []
    },
    {
      "cell_type": "code",
      "metadata": {
        "colab": {
          "base_uri": "https://localhost:8080/"
        },
        "id": "0MU8FcHlyEsX",
        "outputId": "9e85d0bf-f3af-4bd6-b5fe-a375b4e03e23"
      },
      "source": [
        "train_df.shape"
      ],
      "execution_count": 7,
      "outputs": [
        {
          "output_type": "execute_result",
          "data": {
            "text/plain": [
              "(161297, 7)"
            ]
          },
          "metadata": {},
          "execution_count": 7
        }
      ]
    },
    {
      "cell_type": "code",
      "metadata": {
        "colab": {
          "base_uri": "https://localhost:8080/"
        },
        "id": "wp8B7Glpy2kI",
        "outputId": "f4261cd6-b463-40d2-9ec3-637b665b1b07"
      },
      "source": [
        "test_df.shape"
      ],
      "execution_count": 8,
      "outputs": [
        {
          "output_type": "execute_result",
          "data": {
            "text/plain": [
              "(53766, 6)"
            ]
          },
          "metadata": {},
          "execution_count": 8
        }
      ]
    },
    {
      "cell_type": "code",
      "metadata": {
        "colab": {
          "base_uri": "https://localhost:8080/"
        },
        "id": "9oe0plXN0x7d",
        "outputId": "6b5ae07c-629a-442a-cbdd-3267f691b51e"
      },
      "source": [
        "train_df = train_df.dropna(axis = 0)\n",
        "\n",
        "train_df.shape"
      ],
      "execution_count": 9,
      "outputs": [
        {
          "output_type": "execute_result",
          "data": {
            "text/plain": [
              "(160398, 7)"
            ]
          },
          "metadata": {},
          "execution_count": 9
        }
      ]
    },
    {
      "cell_type": "code",
      "metadata": {
        "colab": {
          "base_uri": "https://localhost:8080/"
        },
        "id": "TcsJypEFDPM5",
        "outputId": "af9fee45-f7a5-443f-9763-96449a44b83f"
      },
      "source": [
        "test_df.isnull().sum()"
      ],
      "execution_count": 10,
      "outputs": [
        {
          "output_type": "execute_result",
          "data": {
            "text/plain": [
              "drugName         0\n",
              "condition      295\n",
              "review           0\n",
              "rating           0\n",
              "date             0\n",
              "usefulCount      0\n",
              "dtype: int64"
            ]
          },
          "metadata": {},
          "execution_count": 10
        }
      ]
    },
    {
      "cell_type": "code",
      "metadata": {
        "colab": {
          "base_uri": "https://localhost:8080/"
        },
        "id": "Zvt1N-NvDdXT",
        "outputId": "f8590412-2eac-4296-ed88-3f65849e63eb"
      },
      "source": [
        "test_df.shape"
      ],
      "execution_count": 11,
      "outputs": [
        {
          "output_type": "execute_result",
          "data": {
            "text/plain": [
              "(53766, 6)"
            ]
          },
          "metadata": {},
          "execution_count": 11
        }
      ]
    },
    {
      "cell_type": "code",
      "metadata": {
        "colab": {
          "base_uri": "https://localhost:8080/"
        },
        "id": "bBCR2GlLDUBa",
        "outputId": "1edb55a2-ca35-40cd-c013-e4426377381f"
      },
      "source": [
        "test_df=test_df.dropna(axis=0)\n",
        "\n",
        "test_df.shape"
      ],
      "execution_count": 12,
      "outputs": [
        {
          "output_type": "execute_result",
          "data": {
            "text/plain": [
              "(53471, 6)"
            ]
          },
          "metadata": {},
          "execution_count": 12
        }
      ]
    },
    {
      "cell_type": "code",
      "metadata": {
        "id": "ZS0NZsZQDUDq"
      },
      "source": [
        ""
      ],
      "execution_count": 12,
      "outputs": []
    },
    {
      "cell_type": "code",
      "metadata": {
        "colab": {
          "base_uri": "https://localhost:8080/"
        },
        "id": "Le-ZmEy9zICL",
        "outputId": "926fc3c3-f9c3-45fe-a225-55039ea5a7a6"
      },
      "source": [
        "import pandas as pd\n",
        "import numpy as np\n",
        "import re, string, unicodedata\n",
        "\n",
        "!pip install inflect\n",
        "import inflect\n",
        "from string import punctuation\n",
        "from tqdm import tqdm   # to add progress bars\n",
        "\n",
        "import matplotlib.pyplot as plt\n",
        "import seaborn as sns; sns.set()\n",
        "import nltk\n",
        "\n",
        "from sklearn.model_selection import train_test_split\n",
        "from sklearn.preprocessing import LabelEncoder\n",
        "from sklearn.metrics import confusion_matrix, classification_report, roc_auc_score\n",
        "\n",
        "from keras.models import Model, Sequential\n",
        "from keras.models import load_model\n",
        "from keras.callbacks import EarlyStopping, ModelCheckpoint\n",
        "from keras.layers import LSTM, Activation, Dense, Dropout, Input, Embedding\n",
        "from tensorflow.keras.optimizers import RMSprop, SGD\n",
        "from keras.preprocessing.text import Tokenizer\n",
        "from keras.preprocessing import sequence\n",
        "from keras.preprocessing.text import text_to_word_sequence\n",
        "from keras.preprocessing.sequence import pad_sequences\n",
        "from tensorflow.keras.utils import to_categorical\n",
        "\n",
        "from nltk.corpus import stopwords\n",
        "from nltk.stem import SnowballStemmer\n",
        "\n",
        "\n",
        "from bs4 import BeautifulSoup\n",
        "from nltk import word_tokenize, sent_tokenize\n",
        "from nltk.corpus import stopwords\n",
        "from nltk.stem import LancasterStemmer, WordNetLemmatizer\n",
        "from nltk.tokenize import RegexpTokenizer\n",
        "\n",
        "%matplotlib inline"
      ],
      "execution_count": 18,
      "outputs": [
        {
          "output_type": "stream",
          "name": "stdout",
          "text": [
            "Requirement already satisfied: inflect in /usr/local/lib/python3.7/dist-packages (2.1.0)\n"
          ]
        }
      ]
    },
    {
      "cell_type": "code",
      "metadata": {
        "id": "OhtubAm-0Fd7"
      },
      "source": [
        "#SENTIMENT ANALYSIS"
      ],
      "execution_count": 19,
      "outputs": []
    },
    {
      "cell_type": "code",
      "metadata": {
        "colab": {
          "base_uri": "https://localhost:8080/"
        },
        "id": "8N9Dpr1_2mLI",
        "outputId": "49e4f717-fd70-4329-9945-b5c917b42a61"
      },
      "source": [
        "train_df['review'].head(10)"
      ],
      "execution_count": 20,
      "outputs": [
        {
          "output_type": "execute_result",
          "data": {
            "text/plain": [
              "0    \"It has no side effect, I take it in combinati...\n",
              "1    \"My son is halfway through his fourth week of ...\n",
              "2    \"I used to take another oral contraceptive, wh...\n",
              "3    \"This is my first time using any form of birth...\n",
              "4    \"Suboxone has completely turned my life around...\n",
              "5    \"2nd day on 5mg started to work with rock hard...\n",
              "6    \"He pulled out, but he cummed a bit in me. I t...\n",
              "7    \"Abilify changed my life. There is hope. I was...\n",
              "8    \" I Ve had  nothing but problems with the Kepp...\n",
              "9    \"I had been on the pill for many years. When m...\n",
              "Name: review, dtype: object"
            ]
          },
          "metadata": {},
          "execution_count": 20
        }
      ]
    },
    {
      "cell_type": "code",
      "metadata": {
        "colab": {
          "base_uri": "https://localhost:8080/"
        },
        "id": "sjYOJHg16ezA",
        "outputId": "ed8b0a80-8f98-4fab-ac9f-5b411d4b59bd"
      },
      "source": [
        "train_df.shape"
      ],
      "execution_count": 21,
      "outputs": [
        {
          "output_type": "execute_result",
          "data": {
            "text/plain": [
              "(160398, 7)"
            ]
          },
          "metadata": {},
          "execution_count": 21
        }
      ]
    },
    {
      "cell_type": "code",
      "metadata": {
        "id": "M5QjXd6U6tLm"
      },
      "source": [
        "def rank_bin(array):\n",
        "  y_rank = []\n",
        "  for i in array:\n",
        "    if i <= 4: # Negative rating\n",
        "      y_rank.append('Negative')\n",
        "    elif i >= 7: # Positive Rating \n",
        "      y_rank.append('Positive')\n",
        "    else:   # neutral \n",
        "      y_rank.append('Neutral')\n",
        "  return y_rank\n",
        "\n"
      ],
      "execution_count": 22,
      "outputs": []
    },
    {
      "cell_type": "code",
      "metadata": {
        "colab": {
          "base_uri": "https://localhost:8080/"
        },
        "id": "QXXnQgtPE_Bl",
        "outputId": "ed911a56-b433-43cf-9eae-a10ad4e05cb5"
      },
      "source": [
        "# Assigning test and train data their classes\n",
        "train_df['classes_to_predict'] = rank_bin(train_df['rating'])\n",
        "test_df['classes_to_predict'] = rank_bin(test_df['rating'])\n",
        "\n",
        "# Making a variable to contain the class labels\n",
        "classes_to_predict = ['Positive','Negative','Neutral']\n",
        "print(train_df['classes_to_predict'].value_counts())\n",
        "print(test_df['classes_to_predict'].value_counts()) "
      ],
      "execution_count": 23,
      "outputs": [
        {
          "output_type": "stream",
          "name": "stdout",
          "text": [
            "Positive    106310\n",
            "Negative     39828\n",
            "Neutral      14260\n",
            "Name: classes_to_predict, dtype: int64\n",
            "Positive    35250\n",
            "Negative    13428\n",
            "Neutral      4793\n",
            "Name: classes_to_predict, dtype: int64\n"
          ]
        }
      ]
    },
    {
      "cell_type": "code",
      "metadata": {
        "colab": {
          "base_uri": "https://localhost:8080/",
          "height": 285
        },
        "id": "C3M-ICS08wqV",
        "outputId": "33e0deae-6ae2-46e7-eaeb-ac5f393be0b1"
      },
      "source": [
        "# Displaying the coverage for each group by its rating.\n",
        "sns.boxplot(x='classes_to_predict', y=\"rating\", data=train_df)\n",
        "plt.show()"
      ],
      "execution_count": 24,
      "outputs": [
        {
          "output_type": "display_data",
          "data": {
            "image/png": "[encoded data removed]",
            "text/plain": [
              "<Figure size 432x288 with 1 Axes>"
            ]
          },
          "metadata": {
            "needs_background": "light"
          }
        }
      ]
    },
    {
      "cell_type": "code",
      "metadata": {
        "colab": {
          "base_uri": "https://localhost:8080/",
          "height": 206
        },
        "id": "gQe6N6QV80CK",
        "outputId": "c81d5030-9cd1-493d-c223-7de93666efa1"
      },
      "source": [
        "train_df.head()"
      ],
      "execution_count": 25,
      "outputs": [
        {
          "output_type": "execute_result",
          "data": {
            "text/html": [
              "\n",
              "  <div id=\"df-edf048f4-dfdf-4ac2-9c1a-acd2e43d8a33\">\n",
              "    <div class=\"colab-df-container\">\n",
              "      <div>\n",
              "<style scoped>\n",
              "    .dataframe tbody tr th:only-of-type {\n",
              "        vertical-align: middle;\n",
              "    }\n",
              "\n",
              "    .dataframe tbody tr th {\n",
              "        vertical-align: top;\n",
              "    }\n",
              "\n",
              "    .dataframe thead th {\n",
              "        text-align: right;\n",
              "    }\n",
              "</style>\n",
              "<table border=\"1\" class=\"dataframe\">\n",
              "  <thead>\n",
              "    <tr style=\"text-align: right;\">\n",
              "      <th></th>\n",
              "      <th>index</th>\n",
              "      <th>drugName</th>\n",
              "      <th>condition</th>\n",
              "      <th>review</th>\n",
              "      <th>rating</th>\n",
              "      <th>date</th>\n",
              "      <th>usefulCount</th>\n",
              "      <th>classes_to_predict</th>\n",
              "    </tr>\n",
              "  </thead>\n",
              "  <tbody>\n",
              "    <tr>\n",
              "      <th>0</th>\n",
              "      <td>206461</td>\n",
              "      <td>Valsartan</td>\n",
              "      <td>Left Ventricular Dysfunction</td>\n",
              "      <td>\"It has no side effect, I take it in combinati...</td>\n",
              "      <td>9</td>\n",
              "      <td>May 20, 2012</td>\n",
              "      <td>27</td>\n",
              "      <td>Positive</td>\n",
              "    </tr>\n",
              "    <tr>\n",
              "      <th>1</th>\n",
              "      <td>95260</td>\n",
              "      <td>Guanfacine</td>\n",
              "      <td>ADHD</td>\n",
              "      <td>\"My son is halfway through his fourth week of ...</td>\n",
              "      <td>8</td>\n",
              "      <td>April 27, 2010</td>\n",
              "      <td>192</td>\n",
              "      <td>Positive</td>\n",
              "    </tr>\n",
              "    <tr>\n",
              "      <th>2</th>\n",
              "      <td>92703</td>\n",
              "      <td>Lybrel</td>\n",
              "      <td>Birth Control</td>\n",
              "      <td>\"I used to take another oral contraceptive, wh...</td>\n",
              "      <td>5</td>\n",
              "      <td>December 14, 2009</td>\n",
              "      <td>17</td>\n",
              "      <td>Neutral</td>\n",
              "    </tr>\n",
              "    <tr>\n",
              "      <th>3</th>\n",
              "      <td>138000</td>\n",
              "      <td>Ortho Evra</td>\n",
              "      <td>Birth Control</td>\n",
              "      <td>\"This is my first time using any form of birth...</td>\n",
              "      <td>8</td>\n",
              "      <td>November 3, 2015</td>\n",
              "      <td>10</td>\n",
              "      <td>Positive</td>\n",
              "    </tr>\n",
              "    <tr>\n",
              "      <th>4</th>\n",
              "      <td>35696</td>\n",
              "      <td>Buprenorphine / naloxone</td>\n",
              "      <td>Opiate Dependence</td>\n",
              "      <td>\"Suboxone has completely turned my life around...</td>\n",
              "      <td>9</td>\n",
              "      <td>November 27, 2016</td>\n",
              "      <td>37</td>\n",
              "      <td>Positive</td>\n",
              "    </tr>\n",
              "  </tbody>\n",
              "</table>\n",
              "</div>\n",
              "      <button class=\"colab-df-convert\" onclick=\"convertToInteractive('df-edf048f4-dfdf-4ac2-9c1a-acd2e43d8a33')\"\n",
              "              title=\"Convert this dataframe to an interactive table.\"\n",
              "              style=\"display:none;\">\n",
              "        \n",
              "  <svg xmlns=\"http://www.w3.org/2000/svg\" height=\"24px\"viewBox=\"0 0 24 24\"\n",
              "       width=\"24px\">\n",
              "    <path d=\"M0 0h24v24H0V0z\" fill=\"none\"/>\n",
              "    <path d=\"M18.56 5.44l.94 2.06.94-2.06 2.06-.94-2.06-.94-.94-2.06-.94 2.06-2.06.94zm-11 1L8.5 8.5l.94-2.06 2.06-.94-2.06-.94L8.5 2.5l-.94 2.06-2.06.94zm10 10l.94 2.06.94-2.06 2.06-.94-2.06-.94-.94-2.06-.94 2.06-2.06.94z\"/><path d=\"M17.41 7.96l-1.37-1.37c-.4-.4-.92-.59-1.43-.59-.52 0-1.04.2-1.43.59L10.3 9.45l-7.72 7.72c-.78.78-.78 2.05 0 2.83L4 21.41c.39.39.9.59 1.41.59.51 0 1.02-.2 1.41-.59l7.78-7.78 2.81-2.81c.8-.78.8-2.07 0-2.86zM5.41 20L4 18.59l7.72-7.72 1.47 1.35L5.41 20z\"/>\n",
              "  </svg>\n",
              "      </button>\n",
              "      \n",
              "  <style>\n",
              "    .colab-df-container {\n",
              "      display:flex;\n",
              "      flex-wrap:wrap;\n",
              "      gap: 12px;\n",
              "    }\n",
              "\n",
              "    .colab-df-convert {\n",
              "      background-color: #E8F0FE;\n",
              "      border: none;\n",
              "      border-radius: 50%;\n",
              "      cursor: pointer;\n",
              "      display: none;\n",
              "      fill: #1967D2;\n",
              "      height: 32px;\n",
              "      padding: 0 0 0 0;\n",
              "      width: 32px;\n",
              "    }\n",
              "\n",
              "    .colab-df-convert:hover {\n",
              "      background-color: #E2EBFA;\n",
              "      box-shadow: 0px 1px 2px rgba(60, 64, 67, 0.3), 0px 1px 3px 1px rgba(60, 64, 67, 0.15);\n",
              "      fill: #174EA6;\n",
              "    }\n",
              "\n",
              "    [theme=dark] .colab-df-convert {\n",
              "      background-color: #3B4455;\n",
              "      fill: #D2E3FC;\n",
              "    }\n",
              "\n",
              "    [theme=dark] .colab-df-convert:hover {\n",
              "      background-color: #434B5C;\n",
              "      box-shadow: 0px 1px 3px 1px rgba(0, 0, 0, 0.15);\n",
              "      filter: drop-shadow(0px 1px 2px rgba(0, 0, 0, 0.3));\n",
              "      fill: #FFFFFF;\n",
              "    }\n",
              "  </style>\n",
              "\n",
              "      <script>\n",
              "        const buttonEl =\n",
              "          document.querySelector('#df-edf048f4-dfdf-4ac2-9c1a-acd2e43d8a33 button.colab-df-convert');\n",
              "        buttonEl.style.display =\n",
              "          google.colab.kernel.accessAllowed ? 'block' : 'none';\n",
              "\n",
              "        async function convertToInteractive(key) {\n",
              "          const element = document.querySelector('#df-edf048f4-dfdf-4ac2-9c1a-acd2e43d8a33');\n",
              "          const dataTable =\n",
              "            await google.colab.kernel.invokeFunction('convertToInteractive',\n",
              "                                                     [key], {});\n",
              "          if (!dataTable) return;\n",
              "\n",
              "          const docLinkHtml = 'Like what you see? Visit the ' +\n",
              "            '<a target=\"_blank\" href=https://colab.research.google.com/notebooks/data_table.ipynb>data table notebook</a>'\n",
              "            + ' to learn more about interactive tables.';\n",
              "          element.innerHTML = '';\n",
              "          dataTable['output_type'] = 'display_data';\n",
              "          await google.colab.output.renderOutput(dataTable, element);\n",
              "          const docLink = document.createElement('div');\n",
              "          docLink.innerHTML = docLinkHtml;\n",
              "          element.appendChild(docLink);\n",
              "        }\n",
              "      </script>\n",
              "    </div>\n",
              "  </div>\n",
              "  "
            ],
            "text/plain": [
              "    index                  drugName  ... usefulCount classes_to_predict\n",
              "0  206461                 Valsartan  ...          27           Positive\n",
              "1   95260                Guanfacine  ...         192           Positive\n",
              "2   92703                    Lybrel  ...          17            Neutral\n",
              "3  138000                Ortho Evra  ...          10           Positive\n",
              "4   35696  Buprenorphine / naloxone  ...          37           Positive\n",
              "\n",
              "[5 rows x 8 columns]"
            ]
          },
          "metadata": {},
          "execution_count": 25
        }
      ]
    },
    {
      "cell_type": "code",
      "metadata": {
        "colab": {
          "base_uri": "https://localhost:8080/"
        },
        "id": "bL-_7Icu9BBZ",
        "outputId": "5f5ffe7e-fdf1-46fd-cf8f-9a988039f735"
      },
      "source": [
        "nltk.download('stopwords')\n",
        "\n",
        "drug_stopwords = pd.read_csv('/content/drive/My Drive/dataset/drugname_stopwords.csv')  # extending stopwords\n",
        "\n",
        "print(drug_stopwords[0:5])"
      ],
      "execution_count": 26,
      "outputs": [
        {
          "output_type": "stream",
          "name": "stdout",
          "text": [
            "[nltk_data] Downloading package stopwords to /root/nltk_data...\n",
            "[nltk_data]   Unzipping corpora/stopwords.zip.\n",
            "   Unnamed: 0  drugs_stopwords\n",
            "0           0    acetaminophen\n",
            "1           1  pseudoephedrine\n",
            "2           2    phenylephrine\n",
            "3           3        estradiol\n",
            "4           4          codeine\n"
          ]
        }
      ]
    },
    {
      "cell_type": "code",
      "metadata": {
        "colab": {
          "base_uri": "https://localhost:8080/"
        },
        "id": "FfidvQz7825V",
        "outputId": "21f149f6-bb89-45c7-d431-4adca9e9e2c9"
      },
      "source": [
        "# Preprocessing\n",
        "\n",
        "# removal of special characters\n",
        "remove_special_char = re.compile('r[^a-z\\d]',re.IGNORECASE)\n",
        "\n",
        "# regex to replace all numerics\n",
        "replace_numerics = re.compile(r'\\d+',re.IGNORECASE)\n",
        "\n",
        "# Loading NLTK stop words\n",
        "stop_words = nltk.corpus.stopwords.words('english')\n",
        "print (\"NLTK stopword list length: \",len(stop_words),'words')\n",
        "\n",
        "# Adding custom drug stopwords\n",
        "stop_words.extend(drug_stopwords)\n",
        "\n",
        "def remove_punctuation(words):\n",
        "    \"\"\" used to remove punctuation\"\"\"\n",
        "    new_words = []\n",
        "    for word in words:\n",
        "        new_word = re.sub(r'[^\\w\\s]', '', word)\n",
        "        if new_word != '':\n",
        "            new_words.append(new_word)\n",
        "    return new_words\n",
        "\n",
        "def replace_numbers(words):\n",
        "    \"\"\"used to replace all interger occurrences in list\"\"\"\n",
        "    p = inflect.engine()\n",
        "    new_words = []\n",
        "    for word in words:\n",
        "        if word.isdigit():\n",
        "            new_word = p.number_to_words(word)\n",
        "            new_words.append(new_word)\n",
        "        else:\n",
        "            new_words.append(word)\n",
        "    return new_words\n",
        "\n",
        "def remove_stopwords(words):\n",
        "    \"\"\"used to remove stop words from list of tokenized words\"\"\"\n",
        "    new_words = []\n",
        "    for word in words:\n",
        "        if word not in stop_words:\n",
        "            new_words.append(word)\n",
        "    return new_words\n",
        "\n",
        "def normalize(words):\n",
        "    words = remove_punctuation(words)\n",
        "    words = replace_numbers(words)\n",
        "    words = remove_stopwords(words)\n",
        "    return words\n"
      ],
      "execution_count": 27,
      "outputs": [
        {
          "output_type": "stream",
          "name": "stdout",
          "text": [
            "NLTK stopword list length:  179 words\n"
          ]
        }
      ]
    },
    {
      "cell_type": "code",
      "metadata": {
        "id": "seXBOc7iy1cM"
      },
      "source": [
        "# Defining Text-PreProcessing function\n",
        "def preprocess_text(text, remove_stopwords = True, perform_stemming = True):\n",
        "    #first clean text then go to lowercase and split.\n",
        "    text = text.replace(r\"http\\S+\", \"\")\n",
        "    text = text.replace(r\"http\", \"\")\n",
        "    text = text.replace(r\"(\\d)\", \"\")\n",
        "    text = text.replace(r\"@\\S+\", \"\")\n",
        "    text = text.replace(r\"@\", \"at\")\n",
        "    text = remove_special_char.sub('', text)\n",
        "    text = replace_numerics.sub('n', text)\n",
        "    text = text.replace( r\"(\\\\r)|(\\\\n)|(\\\\t)|(\\\\f)|(\\.)|(\\;)|(\\:)|(\\!)|(\\')|(\\?)|(\\,)|(\\\")|(\\()|(\\))|(\\[)|(\\])|(&#039;)|(\\d\\s)|(\\d)|(\\/)\",\"\")\n",
        "    text = text.replace( r\"(\\-)|(\\\\)|(\\s{2,})\",\" \")\n",
        "    text = text.replace(r\"[^A-Za-z0-9(),!?@\\'\\`\\\"\\_\\n]\", \" \")\n",
        "    text = text.replace(r\"(&#n;)\", \"\")\n",
        "    \n",
        "    # per/word processing\n",
        "    textlist = text.lower().split()\n",
        "    textlist = normalize(textlist)\n",
        "    text = ' '.join(textlist) \n",
        "\n",
        "    # stemming  \n",
        "    if(perform_stemming):\n",
        "        text = text.split()\n",
        "        stemmer = SnowballStemmer('english')\n",
        "        stemmed_words = [stemmer.stem(word) for word in text]\n",
        "        text = ' '.join(stemmed_words)\n",
        "        \n",
        "    return text\n"
      ],
      "execution_count": 28,
      "outputs": []
    },
    {
      "cell_type": "code",
      "metadata": {
        "id": "6G28u-df8-5W"
      },
      "source": [
        "# Clean text\n",
        "raw_train_reviews = train_df['review'].fillna('NA').values\n",
        "raw_test_reviews = test_df['review'].fillna('NA').values\n",
        "\n",
        "# Define y for Training/Validation \n",
        "y = pd.get_dummies(train_df['classes_to_predict']).values\n",
        "\n",
        "# Define y for Tests\n",
        "y_test_predicted = pd.get_dummies(test_df['classes_to_predict']).values\n",
        "\n"
      ],
      "execution_count": 29,
      "outputs": []
    },
    {
      "cell_type": "code",
      "metadata": {
        "colab": {
          "base_uri": "https://localhost:8080/"
        },
        "id": "3iwE2KFcyxcv",
        "outputId": "a5f9501c-0f76-42a3-a4e5-316a02498101"
      },
      "source": [
        "# Process reviews for Training (X)\n",
        "processed_train_reviews = []\n",
        "for review in tqdm(raw_train_reviews):\n",
        "    processed_train_reviews.append(preprocess_text(review))\n",
        "\n",
        "# Process reviews\n",
        "processed_test_reviews = []    \n",
        "for review in tqdm(raw_test_reviews):\n",
        "    processed_test_reviews.append(preprocess_text(review))"
      ],
      "execution_count": 30,
      "outputs": [
        {
          "output_type": "stream",
          "name": "stderr",
          "text": [
            "100%|██████████| 160398/160398 [02:53<00:00, 925.98it/s]\n",
            "100%|██████████| 53471/53471 [00:57<00:00, 926.90it/s]\n"
          ]
        }
      ]
    },
    {
      "cell_type": "code",
      "metadata": {
        "colab": {
          "base_uri": "https://localhost:8080/"
        },
        "id": "eP4xSRlB-QVe",
        "outputId": "5308f6c2-e302-40ff-c2e3-b27244772134"
      },
      "source": [
        "#printing the processed text after preprocessing\n",
        "print (processed_train_reviews[0:5])\n",
        "print (processed_test_reviews[0:5])\n",
        "print (y[0:5])\n",
        "print (y_test_predicted[0:5])"
      ],
      "execution_count": 31,
      "outputs": [
        {
          "output_type": "stream",
          "name": "stdout",
          "text": [
            "['side effect take combin bystol n mg fish oil', 'son halfway fourth week intuniv becam concern began last week start take highest dose fotwo day could hard get bed cranki slept fonear n hour drive home school vacat unusu fohim call doctoon monday morn said stick day see school get morn last two day problem free much agreeabl eve less emot good thing less cranki rememb thing overal behavioi bett tri mani differ medic fathi effect', 'use take anotheor contracept n pill cycl happi light period max n day othesid effect contain hormon gestoden avail us switch lybrel ingredi simila othepil end start lybrel immedi first day period instruct said period last fotwo week take second pack two week third pack thing got even wors third period last fotwo week itn end third week still daili brown discharg posit side didnnt othesid effect idea period free tempt ala', 'first time use form birth control inm glad went patch fon month first decreas libido subsid downsid made period longenn day exact use period fonn day max also made cramp intens foth first two day period nevehad cramp use birth control othethan happi patch', 'suboxon complet turn life around feel healthi inm excel job alway money pocket save account none suboxon spent year abus oxycontin paycheck alreadi spent time got start resort scheme steal fund addict histori younr readi stop theren good chanc suboxon put path great life found sideeffect minim compar oxycontin inm actual sleep bett slight constip fome truli amaz cost pale comparison spent oxycontin']\n",
            "['inv tri antidepress oveth year citalopram fluoxetin amitriptylin none help depress insomnia amp anxieti doctosuggest chang onto nmg mirtazapin medicin save life thank side effect especi common weight gain inv actual lost alot weight still suicid thought mirtazapin save', 'son crohnn diseas done well asacol complaint show side effect taken mani nine tablet peday one time inv happi result reduc bout diarrhea drastic', 'quick reduct symptom', 'contrav combin drug use foalcohol smoke opioid cessat peopl lose weight also help control oveeat doubt obes caus sugacarb addict power drug take fofiv day good news seem go work immedi feel hungri want food realli donnt care eat itn fill stomach sinc day donnt know inv lost weight donnt scale cloth feel littl loos mayb pound otwo inm hope aftea month medic develop healthiehabit continu without aid contrav', 'birth control foon cycl afteread review type similabirth control bit apprehens start im give birth control n n long enough foa n fai love birth control side effect minim like im even birth control experienc mild headach nausea othethan ive feel great got period cue third day inact pill idea come zero pms period light bare cramp unprotect sex first month obvious didnnt get pregnant inm pleas high recommend']\n",
            "[[0 0 1]\n",
            " [0 0 1]\n",
            " [0 1 0]\n",
            " [0 0 1]\n",
            " [0 0 1]]\n",
            "[[0 0 1]\n",
            " [0 0 1]\n",
            " [0 0 1]\n",
            " [0 0 1]\n",
            " [0 0 1]]\n"
          ]
        }
      ]
    },
    {
      "cell_type": "code",
      "metadata": {
        "id": "HzDUnMJE-UKn"
      },
      "source": [
        "# saving the new processed text in a csv file\n",
        "\n",
        "np.savetxt(\"y_trainn.csv\", y, delimiter=\",\", fmt='%s')\n",
        "np.savetxt(\"y_testt.csv\", y_test_predicted, delimiter=\",\", fmt='%s')\n",
        "np.savetxt(\"processed_train_reviews.csv\", processed_train_reviews, delimiter=\",\", fmt='%s')\n",
        "np.savetxt(\"processed_test_reviews.csv\", processed_test_reviews, delimiter=\",\", fmt='%s')"
      ],
      "execution_count": 32,
      "outputs": []
    },
    {
      "cell_type": "code",
      "metadata": {
        "id": "f9QZxpSG-Wo6"
      },
      "source": [
        " #reload to check\n",
        " \n",
        "processed_train_reviews = [line.strip() for line in open(\"processed_train_reviews.csv\", 'r')]\n",
        "processed_test_reviews = [line.strip() for line in open(\"processed_test_reviews.csv\", 'r')]\n",
        "\n",
        "y = np.loadtxt(open(\"y_trainn.csv\", \"r\"), delimiter=\",\").astype(\"int\")\n",
        "y_test_predicted = np.loadtxt(open(\"y_testt.csv\", \"rb\"), delimiter=\",\").astype(\"int\")\n"
      ],
      "execution_count": 33,
      "outputs": []
    },
    {
      "cell_type": "code",
      "metadata": {
        "colab": {
          "base_uri": "https://localhost:8080/"
        },
        "id": "bPEs7ZKIy5ja",
        "outputId": "ff0f4efe-0cbd-45f1-e84d-280097460b5a"
      },
      "source": [
        "print (len(processed_train_reviews))\n",
        "print (len(y))\n",
        "print (len(processed_test_reviews))\n",
        "print (len(y_test_predicted))"
      ],
      "execution_count": null,
      "outputs": [
        {
          "output_type": "stream",
          "text": [
            "160398\n",
            "160398\n",
            "53471\n",
            "53471\n"
          ],
          "name": "stdout"
        }
      ]
    },
    {
      "cell_type": "code",
      "metadata": {
        "colab": {
          "base_uri": "https://localhost:8080/"
        },
        "id": "_HLBQ2QE_GIN",
        "outputId": "738e0b6e-1c0e-4883-9f68-2e46ec13a0e5"
      },
      "source": [
        "train_df_ii = pd.DataFrame(y)\n",
        "train_df_ii[3] = processed_train_reviews\n",
        "\n",
        "\n",
        "print(train_df_ii[3].str.split().str.len().mean())\n",
        "print(train_df_ii[3].str.split().str.len().max())\n",
        "train_df_ii[\"strlen\"] = train_df_ii[3].str.split().str.len()\n",
        "\n"
      ],
      "execution_count": 34,
      "outputs": [
        {
          "output_type": "stream",
          "name": "stdout",
          "text": [
            "43.537949350989415\n",
            "969\n"
          ]
        }
      ]
    },
    {
      "cell_type": "code",
      "metadata": {
        "colab": {
          "base_uri": "https://localhost:8080/",
          "height": 627
        },
        "id": "v8vYG6ODvq9d",
        "outputId": "bc006304-3745-4a4e-d159-30bacb376f08"
      },
      "source": [
        "fig = plt.figure(figsize=(10, 10)) \n",
        "plt.xlabel('Sentence length')\n",
        "plt.ylabel('Number of sentences')\n",
        "plt.title('Length of Sentences')\n",
        "plt.hist(train_df_ii[\"strlen\"], bins=86)\n",
        "plt.show()"
      ],
      "execution_count": 35,
      "outputs": [
        {
          "output_type": "display_data",
          "data": {
            "image/png": "[encoded data removed]",
            "text/plain": [
              "<Figure size 720x720 with 1 Axes>"
            ]
          },
          "metadata": {
            "needs_background": "light"
          }
        }
      ]
    },
    {
      "cell_type": "code",
      "metadata": {
        "colab": {
          "base_uri": "https://localhost:8080/"
        },
        "id": "ONYso1H4_W01",
        "outputId": "66499422-139c-45f0-f1d6-a03155a05fa9"
      },
      "source": [
        "r1 = train_df_ii.loc[train_df_ii[\"strlen\"] >= 1000].strlen.count()\n",
        "r2 = train_df_ii.loc[train_df_ii[\"strlen\"] >= 750].strlen.count()\n",
        "r3 = train_df_ii.loc[train_df_ii[\"strlen\"] >= 250].strlen.count()\n",
        "r4 = train_df_ii.loc[train_df_ii[\"strlen\"] >= 180].strlen.count()\n",
        "r5 = train_df_ii.loc[train_df_ii[\"strlen\"] >= 100].strlen.count()\n",
        "r6 = train_df_ii.loc[train_df_ii[\"strlen\"] < 100].strlen.count()\n",
        "print (\" Number of Reviews by Length \\n %s >1000 words \\n %s >750 words \\n %s >250 words \\n %s >180 words \\n %s >100 words \\n %s <100 words\\n\" % (r1,r2,r3,r4,r5,r6))\n"
      ],
      "execution_count": 36,
      "outputs": [
        {
          "output_type": "stream",
          "name": "stdout",
          "text": [
            " Number of Reviews by Length \n",
            " 0 >1000 words \n",
            " 1 >750 words \n",
            " 30 >250 words \n",
            " 70 >180 words \n",
            " 270 >100 words \n",
            " 160128 <100 words\n",
            "\n"
          ]
        }
      ]
    },
    {
      "cell_type": "code",
      "metadata": {
        "id": "K2Rgzdrsx2ew"
      },
      "source": [
        "maximum_seq_len= 100 \n",
        "max_nb_words_ = 3000\n",
        "embedding_dim = 160"
      ],
      "execution_count": 37,
      "outputs": []
    },
    {
      "cell_type": "code",
      "metadata": {
        "colab": {
          "base_uri": "https://localhost:8080/"
        },
        "id": "xZNdX492_bVO",
        "outputId": "d040b902-21aa-415b-a0b7-2273e9330f75"
      },
      "source": [
        "# Dropping long reviews as most of the reviews are having less than 100 words\n",
        "train_df_ii = train_df_ii.loc[train_df_ii[\"strlen\"] <= maximum_seq_len]\n",
        "\n",
        "print(\"New word count mean:\", train_df_ii[3].str.split().str.len().mean())\n",
        "print(\"New word count max:\",train_df_ii[3].str.split().str.len().max())\n"
      ],
      "execution_count": 38,
      "outputs": [
        {
          "output_type": "stream",
          "name": "stdout",
          "text": [
            "New word count mean: 43.33098529981141\n",
            "New word count max: 100\n"
          ]
        }
      ]
    },
    {
      "cell_type": "code",
      "metadata": {
        "id": "mADb-Nfa_k5F"
      },
      "source": [
        "post_processed_train_reviews = train_df_ii[3].tolist()\n",
        "post_processed_y = train_df_ii[[0, 1, 2]].values"
      ],
      "execution_count": 39,
      "outputs": []
    },
    {
      "cell_type": "code",
      "metadata": {
        "id": "ueSTDGcL_7X9"
      },
      "source": [
        "# Tokenize the data\n",
        "#Tokenization is essentially splitting a phrase, sentence, paragraph, or an entire text document into smaller units, such as individual words or terms. \n",
        "#Each of these smaller units are called tokens. \n",
        "tokenizer = Tokenizer(num_words = max_nb_words_ , \n",
        "                      filters='!\"#$%&()*+,-./:;<=>?@[\\]^_`{|}~',\n",
        "                      lower=True, split=' ', char_level=False)\n",
        "\n",
        "tokenizer.fit_on_texts(post_processed_train_reviews + processed_test_reviews)"
      ],
      "execution_count": 40,
      "outputs": []
    },
    {
      "cell_type": "code",
      "metadata": {
        "id": "tYXTd89TrJmD"
      },
      "source": [
        "# Converting to sequences\n",
        "\n",
        "#Transforms each text in texts to a sequence of integers.\n",
        "# So it basically takes each word in the text and replaces it with its corresponding integer value from the word_index dictionary.\n",
        "\n",
        "train_sequences = tokenizer.texts_to_sequences(post_processed_train_reviews)\n",
        "test_sequences = tokenizer.texts_to_sequences(processed_test_reviews)\n",
        "\n",
        "word_index = tokenizer.word_index\n"
      ],
      "execution_count": 41,
      "outputs": []
    },
    {
      "cell_type": "code",
      "metadata": {
        "colab": {
          "base_uri": "https://localhost:8080/"
        },
        "id": "L136AivOrNo-",
        "outputId": "a08dff44-5f14-4c53-9aa8-8ff1d75dca0e"
      },
      "source": [
        "#  all sequences have the same length. \n",
        "\n",
        "train_data = pad_sequences(train_sequences, maxlen = maximum_seq_len)\n",
        "final_test_data = pad_sequences(test_sequences, maxlen = maximum_seq_len)\n",
        "\n",
        "print(train_data.shape, '<-- shape of train_data')\n",
        "print(final_test_data.shape, '<-- shape of final test data ready for feeding to network.')\n"
      ],
      "execution_count": 42,
      "outputs": [
        {
          "output_type": "stream",
          "name": "stdout",
          "text": [
            "(160134, 100) <-- shape of train_data\n",
            "(53471, 100) <-- shape of final test data ready for feeding to network.\n"
          ]
        }
      ]
    },
    {
      "cell_type": "code",
      "metadata": {
        "colab": {
          "base_uri": "https://localhost:8080/"
        },
        "id": "TEPr2ToEibZU",
        "outputId": "2b844717-70c8-4267-a431-c6ff894c0994"
      },
      "source": [
        "train_data"
      ],
      "execution_count": 43,
      "outputs": [
        {
          "output_type": "execute_result",
          "data": {
            "text/plain": [
              "array([[   0,    0,    0, ...,   77, 2767, 1268],\n",
              "       [   0,    0,    0, ...,   26, 2792,    5],\n",
              "       [   0,    0,    0, ...,  761,   21,  306],\n",
              "       ...,\n",
              "       [   0,    0,    0, ..., 1340,  187,   26],\n",
              "       [   0,    0,    0, ...,  509,  798,  147],\n",
              "       [   0,    0,    0, ...,   29,  325,   37]], dtype=int32)"
            ]
          },
          "metadata": {},
          "execution_count": 43
        }
      ]
    },
    {
      "cell_type": "code",
      "metadata": {
        "colab": {
          "base_uri": "https://localhost:8080/"
        },
        "id": "kEXxa6ulidHy",
        "outputId": "34c196c1-5c99-4785-de08-12772ec5612d"
      },
      "source": [
        "post_processed_y"
      ],
      "execution_count": 44,
      "outputs": [
        {
          "output_type": "execute_result",
          "data": {
            "text/plain": [
              "array([[0, 0, 1],\n",
              "       [0, 0, 1],\n",
              "       [0, 1, 0],\n",
              "       ...,\n",
              "       [1, 0, 0],\n",
              "       [0, 0, 1],\n",
              "       [0, 0, 1]])"
            ]
          },
          "metadata": {},
          "execution_count": 44
        }
      ]
    },
    {
      "cell_type": "code",
      "metadata": {
        "colab": {
          "base_uri": "https://localhost:8080/"
        },
        "id": "sHNJzvVs_-Mo",
        "outputId": "5bc4cc26-71a4-455e-dd92-63fdad471b6e"
      },
      "source": [
        "# Train Validation Split\n",
        "X_train, X_val, Y_train, Y_val = train_test_split(train_data, post_processed_y,\n",
        "                                                  test_size = 0.2,  stratify= post_processed_y, \n",
        "                                                  random_state = 2020)\n",
        "X_test = final_test_data\n",
        "Y_test = y_test_predicted\n",
        "\n",
        "print('Train data shape:', X_train.shape)\n",
        "print('Validation data shape:', X_val.shape)"
      ],
      "execution_count": 45,
      "outputs": [
        {
          "output_type": "stream",
          "name": "stdout",
          "text": [
            "Train data shape: (128107, 100)\n",
            "Validation data shape: (32027, 100)\n"
          ]
        }
      ]
    },
    {
      "cell_type": "code",
      "metadata": {
        "colab": {
          "base_uri": "https://localhost:8080/"
        },
        "id": "bWxUXlk-iG1t",
        "outputId": "5c951086-3b8a-4660-8203-5c5367c9f359"
      },
      "source": [
        "Y_train"
      ],
      "execution_count": null,
      "outputs": [
        {
          "output_type": "execute_result",
          "data": {
            "text/plain": [
              "array([[0, 0, 1],\n",
              "       [0, 0, 1],\n",
              "       [0, 0, 1],\n",
              "       ...,\n",
              "       [0, 0, 1],\n",
              "       [0, 0, 1],\n",
              "       [0, 0, 1]])"
            ]
          },
          "metadata": {
            "tags": []
          },
          "execution_count": 45
        }
      ]
    },
    {
      "cell_type": "code",
      "metadata": {
        "colab": {
          "base_uri": "https://localhost:8080/"
        },
        "id": "HFCfjITgiJt7",
        "outputId": "69d24c3e-4d6a-43b7-8d37-a49552757b5c"
      },
      "source": [
        "Y_test"
      ],
      "execution_count": null,
      "outputs": [
        {
          "output_type": "execute_result",
          "data": {
            "text/plain": [
              "array([[0, 0, 1],\n",
              "       [0, 0, 1],\n",
              "       [0, 0, 1],\n",
              "       ...,\n",
              "       [0, 0, 1],\n",
              "       [1, 0, 0],\n",
              "       [0, 0, 1]])"
            ]
          },
          "metadata": {
            "tags": []
          },
          "execution_count": 46
        }
      ]
    },
    {
      "cell_type": "code",
      "metadata": {
        "colab": {
          "base_uri": "https://localhost:8080/"
        },
        "id": "OLyCM7AkiPuP",
        "outputId": "87b4d2e1-95b3-4e1a-b305-aeaa0fc441f6"
      },
      "source": [
        "Y_val"
      ],
      "execution_count": null,
      "outputs": [
        {
          "output_type": "execute_result",
          "data": {
            "text/plain": [
              "array([[1, 0, 0],\n",
              "       [0, 0, 1],\n",
              "       [0, 0, 1],\n",
              "       ...,\n",
              "       [0, 0, 1],\n",
              "       [0, 0, 1],\n",
              "       [1, 0, 0]])"
            ]
          },
          "metadata": {
            "tags": []
          },
          "execution_count": 47
        }
      ]
    },
    {
      "cell_type": "code",
      "metadata": {
        "id": "mSmWfAUtegP8"
      },
      "source": [
        "from sklearn.preprocessing import StandardScaler\n",
        "sc = StandardScaler()\n",
        "X_train = sc.fit_transform(X_train)\n",
        "X_test = sc.transform(X_test)"
      ],
      "execution_count": 46,
      "outputs": []
    },
    {
      "cell_type": "markdown",
      "metadata": {
        "id": "G-J_TcK0FMAY"
      },
      "source": [
        "**Decision Tree**"
      ]
    },
    {
      "cell_type": "code",
      "metadata": {
        "id": "H2dDYGANegT1"
      },
      "source": [
        "# Fitting Decision Tree Classification to the Training set\n",
        "from sklearn.tree import DecisionTreeClassifier\n",
        "classifier = DecisionTreeClassifier(criterion = 'entropy')\n",
        "classifier.fit(X_train, Y_train)"
      ],
      "execution_count": null,
      "outputs": []
    },
    {
      "cell_type": "code",
      "metadata": {
        "colab": {
          "base_uri": "https://localhost:8080/"
        },
        "id": "br0CKzMgeyn1",
        "outputId": "6decf6e5-67fc-49bb-ff12-173a598421b3"
      },
      "source": [
        "\n",
        "# Predicting the Test set results\n",
        "\n",
        "y_pred = classifier.predict(X_test)\n",
        "y_pred"
      ],
      "execution_count": null,
      "outputs": [
        {
          "output_type": "execute_result",
          "data": {
            "text/plain": [
              "array([[0, 0, 1],\n",
              "       [0, 0, 1],\n",
              "       [0, 0, 1],\n",
              "       ...,\n",
              "       [0, 0, 1],\n",
              "       [1, 0, 0],\n",
              "       [0, 0, 1]])"
            ]
          },
          "metadata": {
            "tags": []
          },
          "execution_count": 68
        }
      ]
    },
    {
      "cell_type": "code",
      "metadata": {
        "colab": {
          "base_uri": "https://localhost:8080/"
        },
        "id": "XMCNqSzveyuY",
        "outputId": "6b3256d1-79fd-4892-ee71-786a5ea4dbd3"
      },
      "source": [
        "from sklearn.metrics import classification_report\n",
        "print(classification_report(Y_test, y_pred))"
      ],
      "execution_count": null,
      "outputs": [
        {
          "output_type": "stream",
          "text": [
            "              precision    recall  f1-score   support\n",
            "\n",
            "           0       0.61      0.61      0.61     13428\n",
            "           1       0.50      0.53      0.52      4793\n",
            "           2       0.83      0.81      0.82     35250\n",
            "\n",
            "   micro avg       0.74      0.74      0.74     53471\n",
            "   macro avg       0.65      0.65      0.65     53471\n",
            "weighted avg       0.74      0.74      0.74     53471\n",
            " samples avg       0.74      0.74      0.74     53471\n",
            "\n"
          ],
          "name": "stdout"
        },
        {
          "output_type": "stream",
          "text": [
            "/usr/local/lib/python3.7/dist-packages/sklearn/metrics/_classification.py:1272: UndefinedMetricWarning: Precision and F-score are ill-defined and being set to 0.0 in samples with no predicted labels. Use `zero_division` parameter to control this behavior.\n",
            "  _warn_prf(average, modifier, msg_start, len(result))\n"
          ],
          "name": "stderr"
        }
      ]
    },
    {
      "cell_type": "markdown",
      "metadata": {
        "id": "V7UMz8PcFh3M"
      },
      "source": [
        "**KNN**"
      ]
    },
    {
      "cell_type": "code",
      "metadata": {
        "colab": {
          "base_uri": "https://localhost:8080/"
        },
        "id": "R6-dlHQjFSkY",
        "outputId": "b4462abd-770c-4d99-fb19-6f293c4a458b"
      },
      "source": [
        "from sklearn.neighbors import KNeighborsClassifier\n",
        "classifier = KNeighborsClassifier(n_neighbors=3)\n",
        "classifier.fit(X_train,Y_train)"
      ],
      "execution_count": null,
      "outputs": [
        {
          "output_type": "execute_result",
          "data": {
            "text/plain": [
              "KNeighborsClassifier(algorithm='auto', leaf_size=30, metric='minkowski',\n",
              "                     metric_params=None, n_jobs=None, n_neighbors=3, p=2,\n",
              "                     weights='uniform')"
            ]
          },
          "metadata": {
            "tags": []
          },
          "execution_count": 65
        }
      ]
    },
    {
      "cell_type": "code",
      "metadata": {
        "colab": {
          "base_uri": "https://localhost:8080/"
        },
        "id": "zVBFVSPdFSmw",
        "outputId": "fc816525-8fe4-4cae-834c-c683b066c2f8"
      },
      "source": [
        "y_pred = classifier.predict(X_test)\n",
        "y_pred"
      ],
      "execution_count": null,
      "outputs": [
        {
          "output_type": "execute_result",
          "data": {
            "text/plain": [
              "array([[0, 0, 1],\n",
              "       [0, 0, 1],\n",
              "       [0, 0, 1],\n",
              "       ...,\n",
              "       [0, 0, 1],\n",
              "       [0, 0, 1],\n",
              "       [0, 0, 1]])"
            ]
          },
          "metadata": {
            "tags": []
          },
          "execution_count": 66
        }
      ]
    },
    {
      "cell_type": "code",
      "metadata": {
        "colab": {
          "base_uri": "https://localhost:8080/"
        },
        "id": "ur6FRDTjF89t",
        "outputId": "e30dabf6-2e30-4f0f-ab20-43565856366b"
      },
      "source": [
        "from sklearn.metrics import classification_report\n",
        "print(classification_report(Y_test, y_pred))"
      ],
      "execution_count": null,
      "outputs": [
        {
          "output_type": "stream",
          "text": [
            "              precision    recall  f1-score   support\n",
            "\n",
            "           0       0.37      0.30      0.33     13428\n",
            "           1       0.18      0.11      0.13      4793\n",
            "           2       0.71      0.74      0.72     35250\n",
            "\n",
            "   micro avg       0.60      0.57      0.59     53471\n",
            "   macro avg       0.42      0.38      0.40     53471\n",
            "weighted avg       0.58      0.57      0.57     53471\n",
            " samples avg       0.57      0.57      0.57     53471\n",
            "\n"
          ],
          "name": "stdout"
        },
        {
          "output_type": "stream",
          "text": [
            "/usr/local/lib/python3.7/dist-packages/sklearn/metrics/_classification.py:1272: UndefinedMetricWarning: Precision and F-score are ill-defined and being set to 0.0 in samples with no predicted labels. Use `zero_division` parameter to control this behavior.\n",
            "  _warn_prf(average, modifier, msg_start, len(result))\n"
          ],
          "name": "stderr"
        }
      ]
    },
    {
      "cell_type": "code",
      "metadata": {
        "id": "N9jb4OtPGB6N",
        "colab": {
          "base_uri": "https://localhost:8080/"
        },
        "outputId": "48d9ccd8-97ba-45ef-cdce-97f65b468643"
      },
      "source": [
        "X_val"
      ],
      "execution_count": null,
      "outputs": [
        {
          "output_type": "execute_result",
          "data": {
            "text/plain": [
              "array([[   0,    0,    0, ...,  419,   46,  632],\n",
              "       [   0,    0,    0, ...,   37,  286,  190],\n",
              "       [   0,    0,    0, ...,   42,   91,   47],\n",
              "       ...,\n",
              "       [   0,    0,    0, ...,  312,  536,  667],\n",
              "       [   0,    0,    0, ...,  169,    2,   41],\n",
              "       [   0,    0,    0, ...,    4, 1659,  631]], dtype=int32)"
            ]
          },
          "metadata": {
            "tags": []
          },
          "execution_count": 94
        }
      ]
    },
    {
      "cell_type": "code",
      "metadata": {
        "id": "2UPrN_8PwXsu"
      },
      "source": [
        ""
      ],
      "execution_count": null,
      "outputs": []
    },
    {
      "cell_type": "code",
      "metadata": {
        "id": "ANSL7Lx0wXvI",
        "colab": {
          "base_uri": "https://localhost:8080/"
        },
        "outputId": "a3788b66-6a97-4836-e34e-6deac395aff2"
      },
      "source": [
        "Y_test"
      ],
      "execution_count": null,
      "outputs": [
        {
          "output_type": "execute_result",
          "data": {
            "text/plain": [
              "array([[0, 0, 1],\n",
              "       [0, 0, 1],\n",
              "       [0, 0, 1],\n",
              "       ...,\n",
              "       [0, 0, 1],\n",
              "       [1, 0, 0],\n",
              "       [0, 0, 1]])"
            ]
          },
          "metadata": {
            "tags": []
          },
          "execution_count": 100
        }
      ]
    },
    {
      "cell_type": "code",
      "metadata": {
        "id": "9r_k-nBHwXzf"
      },
      "source": [
        ""
      ],
      "execution_count": null,
      "outputs": []
    },
    {
      "cell_type": "markdown",
      "metadata": {
        "id": "0xz5eLsjFTWR"
      },
      "source": [
        "### **Deep Learning**"
      ]
    },
    {
      "cell_type": "code",
      "metadata": {
        "id": "4V5WR252uIiz"
      },
      "source": [
        "MAX_SEQUENCE_LENGTH= 100 \n",
        "max_nb_words_ = 3000\n",
        "EMBEDDING_DIM = 160\n"
      ],
      "execution_count": 47,
      "outputs": []
    },
    {
      "cell_type": "code",
      "metadata": {
        "id": "NA0ENOeuZkVL",
        "colab": {
          "base_uri": "https://localhost:8080/"
        },
        "outputId": "b5c0b6a5-7ea6-49d5-b2b1-ba459f4f0847"
      },
      "source": [
        "\n",
        "\n",
        "nb_words  = min(3000, len(word_index))\n",
        "lstm_out = MAX_SEQUENCE_LENGTH\n",
        "\n",
        "model = Sequential()\n",
        "model.add(Embedding(nb_words,EMBEDDING_DIM,input_length=MAX_SEQUENCE_LENGTH))\n",
        "model.add(Conv1D(filters=128, kernel_size=3, padding='same', activation='relu'))\n",
        "model.add(MaxPooling1D(pool_size=2))\n",
        "model.add(SpatialDropout1D(0.4))\n",
        "model.add(LSTM(lstm_out, dropout=0.2, recurrent_dropout=0.2))\n",
        "model.add(Dense(3, activation = 'softmax'))\n",
        "\n",
        "model.compile(loss='categorical_crossentropy',optimizer='adam',metrics=['accuracy'])"
      ],
      "execution_count": 48,
      "outputs": [
        {
          "output_type": "stream",
          "name": "stdout",
          "text": [
            "WARNING:tensorflow:Layer lstm will not use cuDNN kernels since it doesn't meet the criteria. It will use a generic GPU kernel as fallback when running on GPU.\n"
          ]
        }
      ]
    },
    {
      "cell_type": "code",
      "metadata": {
        "id": "M7AKHTSrEQ_6"
      },
      "source": [
        "training_cycle = 1\n",
        "batch = 32 \n",
        "epoch = 40\n",
        "checkpoint_filepath = '/tmp/checkpoint'\n",
        "\n",
        "early_stopping = EarlyStopping(patience = 4)\n",
        "model_checkpoint = ModelCheckpoint(filepath=checkpoint_filepath,save_best_only = True)"
      ],
      "execution_count": null,
      "outputs": []
    },
    {
      "cell_type": "code",
      "metadata": {
        "colab": {
          "base_uri": "https://localhost:8080/"
        },
        "id": "sAqf94Fkv1wH",
        "outputId": "9359bb50-753c-486c-8ce8-1ffe5401b96c"
      },
      "source": [
        "model.fit(X_train, Y_train, batch_size=batch, epochs=epoch,\n",
        "                       validation_data=(X_val, Y_val), shuffle = True, \n",
        "                       callbacks = [early_stopping,model_checkpoint], verbose = 0)\n",
        "\n"
      ],
      "execution_count": null,
      "outputs": [
        {
          "output_type": "execute_result",
          "data": {
            "text/plain": [
              "<tensorflow.python.keras.callbacks.History at 0x7fa08c862490>"
            ]
          },
          "metadata": {
            "tags": []
          },
          "execution_count": 55
        }
      ]
    },
    {
      "cell_type": "code",
      "metadata": {
        "colab": {
          "base_uri": "https://localhost:8080/"
        },
        "id": "gHA4ifTvDp0T",
        "outputId": "f4555ba3-a154-4818-8df5-e51e0846d734"
      },
      "source": [
        "losses = pd.DataFrame(model.history.history)\n",
        "print(losses)"
      ],
      "execution_count": null,
      "outputs": [
        {
          "output_type": "stream",
          "text": [
            "       loss  accuracy  val_loss  val_accuracy\n",
            "0  0.246353  0.909240  0.541445      0.840728\n",
            "1  0.239776  0.911363  0.536371      0.843164\n",
            "2  0.233010  0.914353  0.531101      0.845224\n",
            "3  0.227930  0.916406  0.530509      0.847785\n",
            "4  0.222262  0.918935  0.528432      0.845318\n",
            "5  0.216256  0.920707  0.555128      0.839854\n",
            "6  0.212424  0.921831  0.546095      0.846536\n",
            "7  0.209717  0.923517  0.545686      0.847504\n",
            "8  0.205905  0.924126  0.567148      0.848378\n"
          ],
          "name": "stdout"
        }
      ]
    },
    {
      "cell_type": "code",
      "metadata": {
        "id": "o9VvZoFmamgJ"
      },
      "source": [
        "from sklearn.preprocessing import StandardScaler\n",
        "sc = StandardScaler()\n",
        "X_test = sc.fit_transform(X_test)"
      ],
      "execution_count": null,
      "outputs": []
    },
    {
      "cell_type": "code",
      "metadata": {
        "colab": {
          "base_uri": "https://localhost:8080/"
        },
        "id": "Q0NkDz7l2b_y",
        "outputId": "dc19d436-d26e-4b4b-87b5-d4e53eb69716"
      },
      "source": [
        "# X_test=sc.inverse_transform(X_test)\n",
        "final_pred=model.predict_classes(X_test)\n",
        "len(final_pred)"
      ],
      "execution_count": null,
      "outputs": [
        {
          "output_type": "stream",
          "text": [
            "/usr/local/lib/python3.7/dist-packages/tensorflow/python/keras/engine/sequential.py:450: UserWarning: `model.predict_classes()` is deprecated and will be removed after 2021-01-01. Please use instead:* `np.argmax(model.predict(x), axis=-1)`,   if your model does multi-class classification   (e.g. if it uses a `softmax` last-layer activation).* `(model.predict(x) > 0.5).astype(\"int32\")`,   if your model does binary classification   (e.g. if it uses a `sigmoid` last-layer activation).\n",
            "  warnings.warn('`model.predict_classes()` is deprecated and '\n"
          ],
          "name": "stderr"
        },
        {
          "output_type": "execute_result",
          "data": {
            "text/plain": [
              "53471"
            ]
          },
          "metadata": {
            "tags": []
          },
          "execution_count": 69
        }
      ]
    },
    {
      "cell_type": "code",
      "metadata": {
        "id": "jV2pa5ctXaLx"
      },
      "source": [
        "from sklearn.preprocessing import StandardScaler\n",
        "sc = StandardScaler()\n",
        "X_test= sc.fit_transform(X_test)\n"
      ],
      "execution_count": null,
      "outputs": []
    },
    {
      "cell_type": "code",
      "metadata": {
        "colab": {
          "base_uri": "https://localhost:8080/",
          "height": 416
        },
        "id": "3KVqCS8aJz7C",
        "outputId": "f17cc205-1816-43bc-f0b8-0b1935ac4423"
      },
      "source": [
        "pd.DataFrame(final_pred)"
      ],
      "execution_count": null,
      "outputs": [
        {
          "output_type": "execute_result",
          "data": {
            "text/html": [
              "<div>\n",
              "<style scoped>\n",
              "    .dataframe tbody tr th:only-of-type {\n",
              "        vertical-align: middle;\n",
              "    }\n",
              "\n",
              "    .dataframe tbody tr th {\n",
              "        vertical-align: top;\n",
              "    }\n",
              "\n",
              "    .dataframe thead th {\n",
              "        text-align: right;\n",
              "    }\n",
              "</style>\n",
              "<table border=\"1\" class=\"dataframe\">\n",
              "  <thead>\n",
              "    <tr style=\"text-align: right;\">\n",
              "      <th></th>\n",
              "      <th>0</th>\n",
              "    </tr>\n",
              "  </thead>\n",
              "  <tbody>\n",
              "    <tr>\n",
              "      <th>0</th>\n",
              "      <td>2</td>\n",
              "    </tr>\n",
              "    <tr>\n",
              "      <th>1</th>\n",
              "      <td>2</td>\n",
              "    </tr>\n",
              "    <tr>\n",
              "      <th>2</th>\n",
              "      <td>2</td>\n",
              "    </tr>\n",
              "    <tr>\n",
              "      <th>3</th>\n",
              "      <td>2</td>\n",
              "    </tr>\n",
              "    <tr>\n",
              "      <th>4</th>\n",
              "      <td>2</td>\n",
              "    </tr>\n",
              "    <tr>\n",
              "      <th>...</th>\n",
              "      <td>...</td>\n",
              "    </tr>\n",
              "    <tr>\n",
              "      <th>53466</th>\n",
              "      <td>2</td>\n",
              "    </tr>\n",
              "    <tr>\n",
              "      <th>53467</th>\n",
              "      <td>2</td>\n",
              "    </tr>\n",
              "    <tr>\n",
              "      <th>53468</th>\n",
              "      <td>2</td>\n",
              "    </tr>\n",
              "    <tr>\n",
              "      <th>53469</th>\n",
              "      <td>2</td>\n",
              "    </tr>\n",
              "    <tr>\n",
              "      <th>53470</th>\n",
              "      <td>2</td>\n",
              "    </tr>\n",
              "  </tbody>\n",
              "</table>\n",
              "<p>53471 rows × 1 columns</p>\n",
              "</div>"
            ],
            "text/plain": [
              "       0\n",
              "0      2\n",
              "1      2\n",
              "2      2\n",
              "3      2\n",
              "4      2\n",
              "...   ..\n",
              "53466  2\n",
              "53467  2\n",
              "53468  2\n",
              "53469  2\n",
              "53470  2\n",
              "\n",
              "[53471 rows x 1 columns]"
            ]
          },
          "metadata": {
            "tags": []
          },
          "execution_count": 70
        }
      ]
    },
    {
      "cell_type": "code",
      "metadata": {
        "id": "c7JcjY9ORFl3"
      },
      "source": [
        "test_df=test_df.iloc[:53471,:]"
      ],
      "execution_count": null,
      "outputs": []
    },
    {
      "cell_type": "code",
      "metadata": {
        "id": "8357h7gWRbjG"
      },
      "source": [
        "test_df[\"predicted\"]=sentiment"
      ],
      "execution_count": null,
      "outputs": []
    },
    {
      "cell_type": "code",
      "metadata": {
        "id": "YFNH8heASeRL"
      },
      "source": [
        "from google.colab import files\n",
        "# files.download(\"test_df.csv\")\n",
        "test_df.to_csv(\"test_df.csv\")"
      ],
      "execution_count": null,
      "outputs": []
    },
    {
      "cell_type": "code",
      "metadata": {
        "colab": {
          "base_uri": "https://localhost:8080/"
        },
        "id": "_3a5R01OIpoQ",
        "outputId": "8c0b1e0a-172a-4a4c-df76-006252a2e53c"
      },
      "source": [
        "f=final_pred\n",
        "f"
      ],
      "execution_count": null,
      "outputs": [
        {
          "output_type": "execute_result",
          "data": {
            "text/plain": [
              "array([2, 2, 2, ..., 2, 2, 2])"
            ]
          },
          "metadata": {
            "tags": []
          },
          "execution_count": 71
        }
      ]
    },
    {
      "cell_type": "code",
      "metadata": {
        "id": "WyrnvUBGik0s"
      },
      "source": [
        "sentiment=[]\n",
        "for k in f:\n",
        "    if k==0:\n",
        "        sentiment.append(\"Negative\")\n",
        "    elif k==1:\n",
        "        sentiment.append(\"Neutral\")\n",
        "    else:\n",
        "        sentiment.append(\"positive\")\n",
        "        "
      ],
      "execution_count": null,
      "outputs": []
    },
    {
      "cell_type": "code",
      "metadata": {
        "colab": {
          "base_uri": "https://localhost:8080/"
        },
        "id": "_k-qbpcuMa6m",
        "outputId": "44cd09e7-cea1-46cd-c3e9-7047e7defcf0"
      },
      "source": [
        "sentiment=[]\n",
        "for k in f:\n",
        "    if k==0:\n",
        "        sentiment.append(\"Negative\")\n",
        "    elif k==1:\n",
        "        sentiment.append(\"Neutral\")\n",
        "    else:\n",
        "        sentiment.append(\"positive\")\n",
        "sentiment        "
      ],
      "execution_count": null,
      "outputs": [
        {
          "output_type": "execute_result",
          "data": {
            "text/plain": [
              "['positive',\n",
              " 'positive',\n",
              " 'positive',\n",
              " 'positive',\n",
              " 'positive',\n",
              " 'positive',\n",
              " 'positive',\n",
              " 'positive',\n",
              " 'positive',\n",
              " 'positive',\n",
              " 'positive',\n",
              " 'positive',\n",
              " 'positive',\n",
              " 'positive',\n",
              " 'positive',\n",
              " 'positive',\n",
              " 'positive',\n",
              " 'positive',\n",
              " 'positive',\n",
              " 'positive',\n",
              " 'positive',\n",
              " 'positive',\n",
              " 'positive',\n",
              " 'positive',\n",
              " 'positive',\n",
              " 'positive',\n",
              " 'positive',\n",
              " 'positive',\n",
              " 'positive',\n",
              " 'positive',\n",
              " 'positive',\n",
              " 'positive',\n",
              " 'positive',\n",
              " 'positive',\n",
              " 'positive',\n",
              " 'positive',\n",
              " 'positive',\n",
              " 'positive',\n",
              " 'positive',\n",
              " 'positive',\n",
              " 'positive',\n",
              " 'positive',\n",
              " 'positive',\n",
              " 'positive',\n",
              " 'positive',\n",
              " 'positive',\n",
              " 'positive',\n",
              " 'positive',\n",
              " 'positive',\n",
              " 'positive',\n",
              " 'positive',\n",
              " 'positive',\n",
              " 'positive',\n",
              " 'positive',\n",
              " 'positive',\n",
              " 'positive',\n",
              " 'positive',\n",
              " 'positive',\n",
              " 'positive',\n",
              " 'positive',\n",
              " 'positive',\n",
              " 'positive',\n",
              " 'positive',\n",
              " 'positive',\n",
              " 'positive',\n",
              " 'positive',\n",
              " 'positive',\n",
              " 'positive',\n",
              " 'positive',\n",
              " 'positive',\n",
              " 'positive',\n",
              " 'positive',\n",
              " 'positive',\n",
              " 'positive',\n",
              " 'positive',\n",
              " 'positive',\n",
              " 'positive',\n",
              " 'positive',\n",
              " 'positive',\n",
              " 'positive',\n",
              " 'positive',\n",
              " 'positive',\n",
              " 'positive',\n",
              " 'positive',\n",
              " 'positive',\n",
              " 'positive',\n",
              " 'positive',\n",
              " 'positive',\n",
              " 'positive',\n",
              " 'positive',\n",
              " 'positive',\n",
              " 'positive',\n",
              " 'positive',\n",
              " 'positive',\n",
              " 'positive',\n",
              " 'positive',\n",
              " 'positive',\n",
              " 'positive',\n",
              " 'positive',\n",
              " 'positive',\n",
              " 'positive',\n",
              " 'positive',\n",
              " 'positive',\n",
              " 'positive',\n",
              " 'positive',\n",
              " 'positive',\n",
              " 'positive',\n",
              " 'positive',\n",
              " 'positive',\n",
              " 'positive',\n",
              " 'positive',\n",
              " 'positive',\n",
              " 'positive',\n",
              " 'positive',\n",
              " 'positive',\n",
              " 'positive',\n",
              " 'positive',\n",
              " 'positive',\n",
              " 'positive',\n",
              " 'positive',\n",
              " 'positive',\n",
              " 'positive',\n",
              " 'positive',\n",
              " 'positive',\n",
              " 'positive',\n",
              " 'positive',\n",
              " 'positive',\n",
              " 'positive',\n",
              " 'positive',\n",
              " 'positive',\n",
              " 'positive',\n",
              " 'positive',\n",
              " 'positive',\n",
              " 'positive',\n",
              " 'positive',\n",
              " 'positive',\n",
              " 'positive',\n",
              " 'positive',\n",
              " 'positive',\n",
              " 'positive',\n",
              " 'positive',\n",
              " 'positive',\n",
              " 'positive',\n",
              " 'positive',\n",
              " 'positive',\n",
              " 'positive',\n",
              " 'positive',\n",
              " 'Negative',\n",
              " 'positive',\n",
              " 'positive',\n",
              " 'positive',\n",
              " 'positive',\n",
              " 'positive',\n",
              " 'positive',\n",
              " 'positive',\n",
              " 'positive',\n",
              " 'positive',\n",
              " 'positive',\n",
              " 'positive',\n",
              " 'positive',\n",
              " 'positive',\n",
              " 'positive',\n",
              " 'positive',\n",
              " 'positive',\n",
              " 'positive',\n",
              " 'positive',\n",
              " 'positive',\n",
              " 'positive',\n",
              " 'positive',\n",
              " 'positive',\n",
              " 'positive',\n",
              " 'Negative',\n",
              " 'positive',\n",
              " 'positive',\n",
              " 'positive',\n",
              " 'positive',\n",
              " 'positive',\n",
              " 'positive',\n",
              " 'positive',\n",
              " 'positive',\n",
              " 'positive',\n",
              " 'positive',\n",
              " 'positive',\n",
              " 'positive',\n",
              " 'positive',\n",
              " 'positive',\n",
              " 'positive',\n",
              " 'positive',\n",
              " 'positive',\n",
              " 'positive',\n",
              " 'positive',\n",
              " 'positive',\n",
              " 'positive',\n",
              " 'positive',\n",
              " 'positive',\n",
              " 'positive',\n",
              " 'positive',\n",
              " 'positive',\n",
              " 'positive',\n",
              " 'positive',\n",
              " 'positive',\n",
              " 'positive',\n",
              " 'positive',\n",
              " 'positive',\n",
              " 'positive',\n",
              " 'positive',\n",
              " 'positive',\n",
              " 'positive',\n",
              " 'positive',\n",
              " 'positive',\n",
              " 'positive',\n",
              " 'positive',\n",
              " 'positive',\n",
              " 'positive',\n",
              " 'positive',\n",
              " 'positive',\n",
              " 'positive',\n",
              " 'positive',\n",
              " 'positive',\n",
              " 'positive',\n",
              " 'positive',\n",
              " 'positive',\n",
              " 'positive',\n",
              " 'positive',\n",
              " 'Negative',\n",
              " 'positive',\n",
              " 'positive',\n",
              " 'positive',\n",
              " 'positive',\n",
              " 'positive',\n",
              " 'positive',\n",
              " 'positive',\n",
              " 'positive',\n",
              " 'positive',\n",
              " 'positive',\n",
              " 'positive',\n",
              " 'positive',\n",
              " 'positive',\n",
              " 'positive',\n",
              " 'positive',\n",
              " 'positive',\n",
              " 'positive',\n",
              " 'positive',\n",
              " 'positive',\n",
              " 'positive',\n",
              " 'positive',\n",
              " 'positive',\n",
              " 'positive',\n",
              " 'positive',\n",
              " 'positive',\n",
              " 'positive',\n",
              " 'positive',\n",
              " 'positive',\n",
              " 'positive',\n",
              " 'positive',\n",
              " 'positive',\n",
              " 'positive',\n",
              " 'positive',\n",
              " 'positive',\n",
              " 'positive',\n",
              " 'positive',\n",
              " 'positive',\n",
              " 'positive',\n",
              " 'positive',\n",
              " 'positive',\n",
              " 'positive',\n",
              " 'positive',\n",
              " 'positive',\n",
              " 'positive',\n",
              " 'positive',\n",
              " 'positive',\n",
              " 'positive',\n",
              " 'positive',\n",
              " 'positive',\n",
              " 'positive',\n",
              " 'positive',\n",
              " 'positive',\n",
              " 'positive',\n",
              " 'positive',\n",
              " 'positive',\n",
              " 'positive',\n",
              " 'positive',\n",
              " 'positive',\n",
              " 'positive',\n",
              " 'positive',\n",
              " 'positive',\n",
              " 'positive',\n",
              " 'positive',\n",
              " 'positive',\n",
              " 'positive',\n",
              " 'positive',\n",
              " 'positive',\n",
              " 'positive',\n",
              " 'positive',\n",
              " 'positive',\n",
              " 'positive',\n",
              " 'positive',\n",
              " 'positive',\n",
              " 'positive',\n",
              " 'positive',\n",
              " 'positive',\n",
              " 'positive',\n",
              " 'positive',\n",
              " 'positive',\n",
              " 'positive',\n",
              " 'positive',\n",
              " 'positive',\n",
              " 'positive',\n",
              " 'positive',\n",
              " 'positive',\n",
              " 'positive',\n",
              " 'positive',\n",
              " 'positive',\n",
              " 'positive',\n",
              " 'positive',\n",
              " 'positive',\n",
              " 'positive',\n",
              " 'positive',\n",
              " 'positive',\n",
              " 'positive',\n",
              " 'positive',\n",
              " 'positive',\n",
              " 'positive',\n",
              " 'positive',\n",
              " 'positive',\n",
              " 'positive',\n",
              " 'positive',\n",
              " 'positive',\n",
              " 'positive',\n",
              " 'positive',\n",
              " 'positive',\n",
              " 'positive',\n",
              " 'positive',\n",
              " 'positive',\n",
              " 'positive',\n",
              " 'positive',\n",
              " 'positive',\n",
              " 'positive',\n",
              " 'positive',\n",
              " 'positive',\n",
              " 'positive',\n",
              " 'positive',\n",
              " 'positive',\n",
              " 'positive',\n",
              " 'positive',\n",
              " 'positive',\n",
              " 'positive',\n",
              " 'positive',\n",
              " 'positive',\n",
              " 'positive',\n",
              " 'positive',\n",
              " 'positive',\n",
              " 'positive',\n",
              " 'positive',\n",
              " 'positive',\n",
              " 'positive',\n",
              " 'positive',\n",
              " 'positive',\n",
              " 'positive',\n",
              " 'positive',\n",
              " 'positive',\n",
              " 'positive',\n",
              " 'positive',\n",
              " 'positive',\n",
              " 'positive',\n",
              " 'positive',\n",
              " 'positive',\n",
              " 'positive',\n",
              " 'positive',\n",
              " 'positive',\n",
              " 'positive',\n",
              " 'positive',\n",
              " 'positive',\n",
              " 'positive',\n",
              " 'positive',\n",
              " 'positive',\n",
              " 'positive',\n",
              " 'positive',\n",
              " 'positive',\n",
              " 'positive',\n",
              " 'positive',\n",
              " 'positive',\n",
              " 'positive',\n",
              " 'positive',\n",
              " 'positive',\n",
              " 'positive',\n",
              " 'positive',\n",
              " 'positive',\n",
              " 'positive',\n",
              " 'positive',\n",
              " 'positive',\n",
              " 'positive',\n",
              " 'positive',\n",
              " 'positive',\n",
              " 'positive',\n",
              " 'positive',\n",
              " 'positive',\n",
              " 'positive',\n",
              " 'positive',\n",
              " 'positive',\n",
              " 'positive',\n",
              " 'positive',\n",
              " 'positive',\n",
              " 'positive',\n",
              " 'positive',\n",
              " 'positive',\n",
              " 'positive',\n",
              " 'positive',\n",
              " 'positive',\n",
              " 'positive',\n",
              " 'positive',\n",
              " 'positive',\n",
              " 'positive',\n",
              " 'positive',\n",
              " 'positive',\n",
              " 'positive',\n",
              " 'positive',\n",
              " 'positive',\n",
              " 'positive',\n",
              " 'positive',\n",
              " 'positive',\n",
              " 'positive',\n",
              " 'positive',\n",
              " 'positive',\n",
              " 'positive',\n",
              " 'positive',\n",
              " 'positive',\n",
              " 'positive',\n",
              " 'positive',\n",
              " 'positive',\n",
              " 'positive',\n",
              " 'positive',\n",
              " 'positive',\n",
              " 'positive',\n",
              " 'positive',\n",
              " 'positive',\n",
              " 'positive',\n",
              " 'positive',\n",
              " 'positive',\n",
              " 'positive',\n",
              " 'positive',\n",
              " 'positive',\n",
              " 'positive',\n",
              " 'positive',\n",
              " 'positive',\n",
              " 'positive',\n",
              " 'positive',\n",
              " 'positive',\n",
              " 'positive',\n",
              " 'positive',\n",
              " 'positive',\n",
              " 'positive',\n",
              " 'positive',\n",
              " 'positive',\n",
              " 'positive',\n",
              " 'positive',\n",
              " 'positive',\n",
              " 'positive',\n",
              " 'positive',\n",
              " 'positive',\n",
              " 'positive',\n",
              " 'positive',\n",
              " 'positive',\n",
              " 'positive',\n",
              " 'positive',\n",
              " 'positive',\n",
              " 'positive',\n",
              " 'positive',\n",
              " 'positive',\n",
              " 'positive',\n",
              " 'positive',\n",
              " 'positive',\n",
              " 'positive',\n",
              " 'positive',\n",
              " 'positive',\n",
              " 'positive',\n",
              " 'positive',\n",
              " 'positive',\n",
              " 'positive',\n",
              " 'positive',\n",
              " 'positive',\n",
              " 'positive',\n",
              " 'positive',\n",
              " 'positive',\n",
              " 'positive',\n",
              " 'positive',\n",
              " 'positive',\n",
              " 'positive',\n",
              " 'positive',\n",
              " 'positive',\n",
              " 'positive',\n",
              " 'positive',\n",
              " 'positive',\n",
              " 'positive',\n",
              " 'positive',\n",
              " 'positive',\n",
              " 'positive',\n",
              " 'positive',\n",
              " 'positive',\n",
              " 'positive',\n",
              " 'positive',\n",
              " 'positive',\n",
              " 'positive',\n",
              " 'positive',\n",
              " 'positive',\n",
              " 'positive',\n",
              " 'positive',\n",
              " 'positive',\n",
              " 'positive',\n",
              " 'positive',\n",
              " 'positive',\n",
              " 'positive',\n",
              " 'positive',\n",
              " 'positive',\n",
              " 'positive',\n",
              " 'positive',\n",
              " 'positive',\n",
              " 'positive',\n",
              " 'positive',\n",
              " 'positive',\n",
              " 'positive',\n",
              " 'positive',\n",
              " 'positive',\n",
              " 'positive',\n",
              " 'positive',\n",
              " 'positive',\n",
              " 'positive',\n",
              " 'positive',\n",
              " 'positive',\n",
              " 'positive',\n",
              " 'positive',\n",
              " 'positive',\n",
              " 'positive',\n",
              " 'positive',\n",
              " 'positive',\n",
              " 'positive',\n",
              " 'positive',\n",
              " 'positive',\n",
              " 'positive',\n",
              " 'positive',\n",
              " 'positive',\n",
              " 'positive',\n",
              " 'positive',\n",
              " 'positive',\n",
              " 'positive',\n",
              " 'positive',\n",
              " 'positive',\n",
              " 'positive',\n",
              " 'positive',\n",
              " 'positive',\n",
              " 'positive',\n",
              " 'positive',\n",
              " 'positive',\n",
              " 'positive',\n",
              " 'positive',\n",
              " 'positive',\n",
              " 'positive',\n",
              " 'positive',\n",
              " 'positive',\n",
              " 'positive',\n",
              " 'positive',\n",
              " 'positive',\n",
              " 'positive',\n",
              " 'positive',\n",
              " 'positive',\n",
              " 'positive',\n",
              " 'positive',\n",
              " 'positive',\n",
              " 'positive',\n",
              " 'positive',\n",
              " 'positive',\n",
              " 'positive',\n",
              " 'positive',\n",
              " 'positive',\n",
              " 'positive',\n",
              " 'positive',\n",
              " 'positive',\n",
              " 'positive',\n",
              " 'positive',\n",
              " 'positive',\n",
              " 'positive',\n",
              " 'positive',\n",
              " 'positive',\n",
              " 'positive',\n",
              " 'positive',\n",
              " 'positive',\n",
              " 'positive',\n",
              " 'positive',\n",
              " 'positive',\n",
              " 'positive',\n",
              " 'positive',\n",
              " 'positive',\n",
              " 'positive',\n",
              " 'positive',\n",
              " 'positive',\n",
              " 'positive',\n",
              " 'positive',\n",
              " 'positive',\n",
              " 'positive',\n",
              " 'positive',\n",
              " 'positive',\n",
              " 'positive',\n",
              " 'positive',\n",
              " 'positive',\n",
              " 'positive',\n",
              " 'positive',\n",
              " 'positive',\n",
              " 'positive',\n",
              " 'positive',\n",
              " 'positive',\n",
              " 'positive',\n",
              " 'positive',\n",
              " 'positive',\n",
              " 'positive',\n",
              " 'positive',\n",
              " 'positive',\n",
              " 'positive',\n",
              " 'positive',\n",
              " 'positive',\n",
              " 'positive',\n",
              " 'positive',\n",
              " 'positive',\n",
              " 'positive',\n",
              " 'positive',\n",
              " 'positive',\n",
              " 'positive',\n",
              " 'positive',\n",
              " 'positive',\n",
              " 'positive',\n",
              " 'positive',\n",
              " 'positive',\n",
              " 'positive',\n",
              " 'positive',\n",
              " 'positive',\n",
              " 'positive',\n",
              " 'positive',\n",
              " 'positive',\n",
              " 'positive',\n",
              " 'positive',\n",
              " 'positive',\n",
              " 'positive',\n",
              " 'positive',\n",
              " 'positive',\n",
              " 'positive',\n",
              " 'positive',\n",
              " 'positive',\n",
              " 'positive',\n",
              " 'positive',\n",
              " 'positive',\n",
              " 'positive',\n",
              " 'positive',\n",
              " 'positive',\n",
              " 'positive',\n",
              " 'positive',\n",
              " 'positive',\n",
              " 'positive',\n",
              " 'positive',\n",
              " 'positive',\n",
              " 'positive',\n",
              " 'positive',\n",
              " 'positive',\n",
              " 'positive',\n",
              " 'positive',\n",
              " 'positive',\n",
              " 'positive',\n",
              " 'positive',\n",
              " 'positive',\n",
              " 'positive',\n",
              " 'positive',\n",
              " 'positive',\n",
              " 'positive',\n",
              " 'positive',\n",
              " 'positive',\n",
              " 'positive',\n",
              " 'positive',\n",
              " 'positive',\n",
              " 'positive',\n",
              " 'positive',\n",
              " 'positive',\n",
              " 'positive',\n",
              " 'positive',\n",
              " 'positive',\n",
              " 'positive',\n",
              " 'positive',\n",
              " 'positive',\n",
              " 'positive',\n",
              " 'positive',\n",
              " 'positive',\n",
              " 'positive',\n",
              " 'positive',\n",
              " 'positive',\n",
              " 'positive',\n",
              " 'positive',\n",
              " 'positive',\n",
              " 'positive',\n",
              " 'positive',\n",
              " 'positive',\n",
              " 'positive',\n",
              " 'positive',\n",
              " 'positive',\n",
              " 'positive',\n",
              " 'positive',\n",
              " 'positive',\n",
              " 'positive',\n",
              " 'positive',\n",
              " 'positive',\n",
              " 'positive',\n",
              " 'positive',\n",
              " 'positive',\n",
              " 'positive',\n",
              " 'positive',\n",
              " 'positive',\n",
              " 'positive',\n",
              " 'positive',\n",
              " 'positive',\n",
              " 'positive',\n",
              " 'positive',\n",
              " 'positive',\n",
              " 'positive',\n",
              " 'positive',\n",
              " 'positive',\n",
              " 'positive',\n",
              " 'positive',\n",
              " 'positive',\n",
              " 'positive',\n",
              " 'positive',\n",
              " 'positive',\n",
              " 'positive',\n",
              " 'positive',\n",
              " 'positive',\n",
              " 'positive',\n",
              " 'positive',\n",
              " 'positive',\n",
              " 'positive',\n",
              " 'positive',\n",
              " 'positive',\n",
              " 'positive',\n",
              " 'positive',\n",
              " 'positive',\n",
              " 'positive',\n",
              " 'positive',\n",
              " 'positive',\n",
              " 'positive',\n",
              " 'positive',\n",
              " 'positive',\n",
              " 'positive',\n",
              " 'positive',\n",
              " 'positive',\n",
              " 'positive',\n",
              " 'positive',\n",
              " 'positive',\n",
              " 'positive',\n",
              " 'positive',\n",
              " 'positive',\n",
              " 'positive',\n",
              " 'positive',\n",
              " 'positive',\n",
              " 'positive',\n",
              " 'positive',\n",
              " 'positive',\n",
              " 'positive',\n",
              " 'positive',\n",
              " 'positive',\n",
              " 'positive',\n",
              " 'positive',\n",
              " 'positive',\n",
              " 'positive',\n",
              " 'positive',\n",
              " 'positive',\n",
              " 'positive',\n",
              " 'positive',\n",
              " 'positive',\n",
              " 'positive',\n",
              " 'positive',\n",
              " 'positive',\n",
              " 'positive',\n",
              " 'positive',\n",
              " 'positive',\n",
              " 'positive',\n",
              " 'positive',\n",
              " 'positive',\n",
              " 'positive',\n",
              " 'positive',\n",
              " 'positive',\n",
              " 'positive',\n",
              " 'positive',\n",
              " 'positive',\n",
              " 'positive',\n",
              " 'positive',\n",
              " 'positive',\n",
              " 'positive',\n",
              " 'positive',\n",
              " 'positive',\n",
              " 'positive',\n",
              " 'positive',\n",
              " 'positive',\n",
              " 'positive',\n",
              " 'positive',\n",
              " 'positive',\n",
              " 'positive',\n",
              " 'positive',\n",
              " 'positive',\n",
              " 'positive',\n",
              " 'positive',\n",
              " 'positive',\n",
              " 'positive',\n",
              " 'positive',\n",
              " 'positive',\n",
              " 'positive',\n",
              " 'positive',\n",
              " 'positive',\n",
              " 'positive',\n",
              " 'positive',\n",
              " 'positive',\n",
              " 'positive',\n",
              " 'positive',\n",
              " 'positive',\n",
              " 'positive',\n",
              " 'positive',\n",
              " 'positive',\n",
              " 'positive',\n",
              " 'positive',\n",
              " 'positive',\n",
              " 'positive',\n",
              " 'positive',\n",
              " 'positive',\n",
              " 'positive',\n",
              " 'positive',\n",
              " 'positive',\n",
              " 'positive',\n",
              " 'positive',\n",
              " 'positive',\n",
              " 'positive',\n",
              " 'positive',\n",
              " 'positive',\n",
              " 'positive',\n",
              " 'positive',\n",
              " 'positive',\n",
              " 'positive',\n",
              " 'positive',\n",
              " 'positive',\n",
              " 'positive',\n",
              " 'positive',\n",
              " 'positive',\n",
              " 'positive',\n",
              " 'positive',\n",
              " 'positive',\n",
              " 'positive',\n",
              " 'positive',\n",
              " 'positive',\n",
              " 'positive',\n",
              " 'positive',\n",
              " 'positive',\n",
              " 'positive',\n",
              " 'positive',\n",
              " 'positive',\n",
              " 'positive',\n",
              " 'positive',\n",
              " 'positive',\n",
              " 'positive',\n",
              " 'positive',\n",
              " 'positive',\n",
              " 'positive',\n",
              " 'positive',\n",
              " 'positive',\n",
              " 'positive',\n",
              " 'positive',\n",
              " 'positive',\n",
              " 'positive',\n",
              " 'positive',\n",
              " 'positive',\n",
              " 'positive',\n",
              " 'positive',\n",
              " 'positive',\n",
              " 'positive',\n",
              " 'positive',\n",
              " 'positive',\n",
              " 'positive',\n",
              " 'positive',\n",
              " 'positive',\n",
              " 'positive',\n",
              " 'positive',\n",
              " 'positive',\n",
              " 'positive',\n",
              " 'positive',\n",
              " 'positive',\n",
              " 'positive',\n",
              " 'positive',\n",
              " 'positive',\n",
              " 'positive',\n",
              " 'positive',\n",
              " 'positive',\n",
              " 'positive',\n",
              " 'positive',\n",
              " 'positive',\n",
              " 'positive',\n",
              " 'positive',\n",
              " 'positive',\n",
              " 'positive',\n",
              " 'positive',\n",
              " 'positive',\n",
              " 'positive',\n",
              " 'positive',\n",
              " 'positive',\n",
              " 'positive',\n",
              " 'positive',\n",
              " 'positive',\n",
              " 'positive',\n",
              " 'positive',\n",
              " 'positive',\n",
              " 'positive',\n",
              " 'positive',\n",
              " 'positive',\n",
              " 'positive',\n",
              " 'positive',\n",
              " 'positive',\n",
              " 'positive',\n",
              " 'positive',\n",
              " 'positive',\n",
              " 'positive',\n",
              " 'positive',\n",
              " 'positive',\n",
              " 'positive',\n",
              " 'positive',\n",
              " 'positive',\n",
              " 'positive',\n",
              " 'positive',\n",
              " 'positive',\n",
              " 'positive',\n",
              " 'positive',\n",
              " 'positive',\n",
              " 'positive',\n",
              " 'positive',\n",
              " 'positive',\n",
              " 'positive',\n",
              " 'positive',\n",
              " 'positive',\n",
              " 'positive',\n",
              " 'positive',\n",
              " 'positive',\n",
              " 'positive',\n",
              " 'positive',\n",
              " 'positive',\n",
              " 'positive',\n",
              " 'positive',\n",
              " 'positive',\n",
              " 'positive',\n",
              " 'positive',\n",
              " 'positive',\n",
              " 'positive',\n",
              " 'positive',\n",
              " 'positive',\n",
              " 'positive',\n",
              " 'positive',\n",
              " 'positive',\n",
              " 'positive',\n",
              " 'positive',\n",
              " 'positive',\n",
              " 'positive',\n",
              " 'positive',\n",
              " 'positive',\n",
              " 'positive',\n",
              " 'positive',\n",
              " 'positive',\n",
              " 'positive',\n",
              " 'positive',\n",
              " 'positive',\n",
              " 'positive',\n",
              " 'positive',\n",
              " 'positive',\n",
              " 'positive',\n",
              " 'positive',\n",
              " 'positive',\n",
              " 'positive',\n",
              " 'positive',\n",
              " 'positive',\n",
              " 'positive',\n",
              " 'positive',\n",
              " 'positive',\n",
              " 'positive',\n",
              " 'positive',\n",
              " 'positive',\n",
              " 'positive',\n",
              " 'positive',\n",
              " 'positive',\n",
              " 'positive',\n",
              " 'positive',\n",
              " 'positive',\n",
              " 'positive',\n",
              " 'positive',\n",
              " 'positive',\n",
              " 'positive',\n",
              " 'positive',\n",
              " 'positive',\n",
              " 'positive',\n",
              " 'positive',\n",
              " 'positive',\n",
              " 'positive',\n",
              " 'positive',\n",
              " 'positive',\n",
              " ...]"
            ]
          },
          "metadata": {
            "tags": []
          },
          "execution_count": 72
        }
      ]
    },
    {
      "cell_type": "code",
      "metadata": {
        "id": "iepc37ifi2pi",
        "colab": {
          "base_uri": "https://localhost:8080/",
          "height": 121
        },
        "outputId": "7e825ec7-baf8-4979-ceb0-1f9567e792e2"
      },
      "source": [
        "test_df[\"predicted\"]=sentiment\n",
        "from google.colab import files\n",
        "files.download(\"test_df.csv\")"
      ],
      "execution_count": null,
      "outputs": [
        {
          "output_type": "stream",
          "text": [
            "/usr/local/lib/python3.7/dist-packages/ipykernel_launcher.py:1: SettingWithCopyWarning: \n",
            "A value is trying to be set on a copy of a slice from a DataFrame.\n",
            "Try using .loc[row_indexer,col_indexer] = value instead\n",
            "\n",
            "See the caveats in the documentation: https://pandas.pydata.org/pandas-docs/stable/user_guide/indexing.html#returning-a-view-versus-a-copy\n",
            "  \"\"\"Entry point for launching an IPython kernel.\n"
          ],
          "name": "stderr"
        },
        {
          "output_type": "display_data",
          "data": {
            "application/javascript": [
              "\n",
              "    async function download(id, filename, size) {\n",
              "      if (!google.colab.kernel.accessAllowed) {\n",
              "        return;\n",
              "      }\n",
              "      const div = document.createElement('div');\n",
              "      const label = document.createElement('label');\n",
              "      label.textContent = `Downloading \"${filename}\": `;\n",
              "      div.appendChild(label);\n",
              "      const progress = document.createElement('progress');\n",
              "      progress.max = size;\n",
              "      div.appendChild(progress);\n",
              "      document.body.appendChild(div);\n",
              "\n",
              "      const buffers = [];\n",
              "      let downloaded = 0;\n",
              "\n",
              "      const channel = await google.colab.kernel.comms.open(id);\n",
              "      // Send a message to notify the kernel that we're ready.\n",
              "      channel.send({})\n",
              "\n",
              "      for await (const message of channel.messages) {\n",
              "        // Send a message to notify the kernel that we're ready.\n",
              "        channel.send({})\n",
              "        if (message.buffers) {\n",
              "          for (const buffer of message.buffers) {\n",
              "            buffers.push(buffer);\n",
              "            downloaded += buffer.byteLength;\n",
              "            progress.value = downloaded;\n",
              "          }\n",
              "        }\n",
              "      }\n",
              "      const blob = new Blob(buffers, {type: 'application/binary'});\n",
              "      const a = document.createElement('a');\n",
              "      a.href = window.URL.createObjectURL(blob);\n",
              "      a.download = filename;\n",
              "      div.appendChild(a);\n",
              "      a.click();\n",
              "      div.remove();\n",
              "    }\n",
              "  "
            ],
            "text/plain": [
              "<IPython.core.display.Javascript object>"
            ]
          },
          "metadata": {
            "tags": []
          }
        },
        {
          "output_type": "display_data",
          "data": {
            "application/javascript": [
              "download(\"download_b7a9992a-1997-4c2b-9653-ac72b9d177f8\", \"test_df.csv\", 28448304)"
            ],
            "text/plain": [
              "<IPython.core.display.Javascript object>"
            ]
          },
          "metadata": {
            "tags": []
          }
        }
      ]
    },
    {
      "cell_type": "code",
      "metadata": {
        "id": "JiCa0vkmkARw"
      },
      "source": [
        "sentiment=[]\n",
        "for k in f:\n",
        "    if k==0:\n",
        "        sentiment.append(\"Negative\")\n",
        "    elif k==1:\n",
        "        sentiment.append(\"Neutral\")\n",
        "    else:\n",
        "        sentiment.append(\"positive\")\n",
        "test_df[\"predicted\"]=sentiment\n",
        "from google.colab import files\n",
        "files.download(\"final.csv\")\n",
        "        "
      ],
      "execution_count": null,
      "outputs": []
    },
    {
      "cell_type": "code",
      "metadata": {
        "colab": {
          "base_uri": "https://localhost:8080/"
        },
        "id": "AXUPPPo-37D3",
        "outputId": "4507620d-cdd9-43e4-c8d5-e304e8f00949"
      },
      "source": [
        "print(model.metrics_names)\n",
        "print(model.evaluate(X_test,Y_test,verbose=0))"
      ],
      "execution_count": null,
      "outputs": [
        {
          "output_type": "stream",
          "text": [
            "['loss', 'accuracy']\n",
            "[0.5173752903938293, 0.8333147168159485]\n"
          ],
          "name": "stdout"
        }
      ]
    },
    {
      "cell_type": "code",
      "metadata": {
        "colab": {
          "base_uri": "https://localhost:8080/"
        },
        "id": "gDbN8CtI37Gi",
        "outputId": "b12a3c1e-a062-4b57-a54a-c3c69aa20280"
      },
      "source": [
        "final_pred"
      ],
      "execution_count": null,
      "outputs": [
        {
          "output_type": "execute_result",
          "data": {
            "text/plain": [
              "array([[4.9187583e-05, 1.5563238e-04, 9.9979514e-01],\n",
              "       [3.1086098e-04, 5.5195885e-03, 9.9416959e-01],\n",
              "       [4.4941986e-03, 3.8494859e-03, 9.9165630e-01],\n",
              "       ...,\n",
              "       [7.1700327e-03, 4.7496832e-03, 9.8808026e-01],\n",
              "       [9.9290633e-01, 4.2352830e-03, 2.8583498e-03],\n",
              "       [2.7539888e-01, 3.5495356e-02, 6.8910581e-01]], dtype=float32)"
            ]
          },
          "metadata": {
            "tags": []
          },
          "execution_count": 55
        }
      ]
    },
    {
      "cell_type": "code",
      "metadata": {
        "colab": {
          "base_uri": "https://localhost:8080/"
        },
        "id": "ka_O8z1_SL8x",
        "outputId": "5c0ec092-f80e-474b-a103-ee46ee392f2d"
      },
      "source": [
        " print (\"{:f}\".format(float(\"9.8808026e-01\")))"
      ],
      "execution_count": null,
      "outputs": [
        {
          "output_type": "stream",
          "text": [
            "0.988080\n"
          ],
          "name": "stdout"
        }
      ]
    },
    {
      "cell_type": "code",
      "metadata": {
        "colab": {
          "base_uri": "https://localhost:8080/"
        },
        "id": "cv422vFnZkYG",
        "outputId": "ccc9e17c-cdd4-432d-e605-e4692773475c"
      },
      "source": [
        "#Summary\n",
        "model.summary()"
      ],
      "execution_count": null,
      "outputs": [
        {
          "output_type": "stream",
          "text": [
            "Model: \"sequential_2\"\n",
            "_________________________________________________________________\n",
            "Layer (type)                 Output Shape              Param #   \n",
            "=================================================================\n",
            "embedding_2 (Embedding)      (None, 100, 160)          480000    \n",
            "_________________________________________________________________\n",
            "conv1d_1 (Conv1D)            (None, 100, 128)          61568     \n",
            "_________________________________________________________________\n",
            "max_pooling1d_1 (MaxPooling1 (None, 50, 128)           0         \n",
            "_________________________________________________________________\n",
            "spatial_dropout1d_1 (Spatial (None, 50, 128)           0         \n",
            "_________________________________________________________________\n",
            "lstm_1 (LSTM)                (None, 100)               91600     \n",
            "_________________________________________________________________\n",
            "dense_2 (Dense)              (None, 3)                 303       \n",
            "=================================================================\n",
            "Total params: 633,471\n",
            "Trainable params: 633,471\n",
            "Non-trainable params: 0\n",
            "_________________________________________________________________\n"
          ],
          "name": "stdout"
        }
      ]
    },
    {
      "cell_type": "code",
      "metadata": {
        "id": "cWnq-MMlZkbF"
      },
      "source": [
        "training_cycle = 1\n",
        "batch = 32 \n",
        "epoch = 40\n",
        "checkpoint_filepath = '/tmp/checkpoint'\n",
        "\n",
        "early_stopping = EarlyStopping(patience = 4)\n",
        "model_checkpoint = ModelCheckpoint(filepath=checkpoint_filepath,save_best_only = True)\n",
        "\n",
        "\n",
        "# Run  Model\n"
      ],
      "execution_count": null,
      "outputs": []
    },
    {
      "cell_type": "code",
      "metadata": {
        "id": "SMeCShDOfOcq"
      },
      "source": [
        ""
      ],
      "execution_count": null,
      "outputs": []
    },
    {
      "cell_type": "code",
      "metadata": {
        "id": "syWkYGHRfOgi"
      },
      "source": [
        ""
      ],
      "execution_count": null,
      "outputs": []
    },
    {
      "cell_type": "code",
      "metadata": {
        "id": "Xq5VPf1jfOjX"
      },
      "source": [
        ""
      ],
      "execution_count": null,
      "outputs": []
    },
    {
      "cell_type": "code",
      "metadata": {
        "colab": {
          "base_uri": "https://localhost:8080/"
        },
        "id": "Xas8jVWE2fqd",
        "outputId": "611b128a-9e2b-4aa7-f644-f92d8cbff78c"
      },
      "source": [
        "from keras.layers import GRU\n",
        "m3 = Sequential()\n",
        "m3.add(Embedding(nb_words,EMBEDDING_DIM, input_length = MAX_SEQUENCE_LENGTH))\n",
        "m3.add(GRU(MAX_SEQUENCE_LENGTH,dropout = 0.2, recurrent_dropout = 0.2, return_sequences = True))\n",
        "m3.add(GRU(MAX_SEQUENCE_LENGTH,activation = 'relu',dropout = 0.3, recurrent_dropout = 0.3))\n",
        "m3.add(Dense(3, activation = 'softmax'))\n",
        "m3.compile(optimizer = 'rmsprop', loss = 'binary_crossentropy', metrics = ['accuracy'])\n",
        "m3.summary()"
      ],
      "execution_count": 50,
      "outputs": [
        {
          "output_type": "stream",
          "name": "stdout",
          "text": [
            "WARNING:tensorflow:Layer gru will not use cuDNN kernels since it doesn't meet the criteria. It will use a generic GPU kernel as fallback when running on GPU.\n",
            "WARNING:tensorflow:Layer gru_1 will not use cuDNN kernels since it doesn't meet the criteria. It will use a generic GPU kernel as fallback when running on GPU.\n",
            "Model: \"sequential_2\"\n",
            "_________________________________________________________________\n",
            " Layer (type)                Output Shape              Param #   \n",
            "=================================================================\n",
            " embedding_2 (Embedding)     (None, 100, 160)          480000    \n",
            "                                                                 \n",
            " gru (GRU)                   (None, 100, 100)          78600     \n",
            "                                                                 \n",
            " gru_1 (GRU)                 (None, 100)               60600     \n",
            "                                                                 \n",
            " dense_2 (Dense)             (None, 3)                 303       \n",
            "                                                                 \n",
            "=================================================================\n",
            "Total params: 619,503\n",
            "Trainable params: 619,503\n",
            "Non-trainable params: 0\n",
            "_________________________________________________________________\n"
          ]
        }
      ]
    },
    {
      "cell_type": "code",
      "metadata": {
        "id": "tTtOub4TSCgb"
      },
      "source": [
        "training_cycle = 1\n",
        "batch = 32 \n",
        "epoch = 40\n",
        "checkpoint_filepath = '/tmp/checkpoint'\n",
        "\n",
        "early_stopping = EarlyStopping(patience = 4)\n",
        "model_checkpoint = ModelCheckpoint(filepath=checkpoint_filepath,save_best_only = True)"
      ],
      "execution_count": null,
      "outputs": []
    },
    {
      "cell_type": "markdown",
      "metadata": {
        "id": "2efRb-HBTEBH"
      },
      "source": [
        ""
      ]
    },
    {
      "cell_type": "markdown",
      "metadata": {
        "id": "-Tu9Tpn7g0l_"
      },
      "source": [
        ""
      ]
    },
    {
      "cell_type": "code",
      "metadata": {
        "colab": {
          "base_uri": "https://localhost:8080/"
        },
        "id": "WzK9McO0x_oL",
        "outputId": "f2adc378-db6d-4328-efdf-b84027f12316"
      },
      "source": [
        "m3.fit(X_train, Y_train, batch_size=batch, epochs=epoch,\n",
        "                       validation_data=(X_val, Y_val), shuffle = True, \n",
        "                       callbacks = [early_stopping,model_checkpoint], verbose = 0)\n",
        "\n"
      ],
      "execution_count": null,
      "outputs": [
        {
          "output_type": "stream",
          "text": [
            "INFO:tensorflow:Assets written to: /tmp/checkpoint/assets\n"
          ],
          "name": "stdout"
        }
      ]
    },
    {
      "cell_type": "code",
      "metadata": {
        "id": "b3lwsfF7x_xw"
      },
      "source": [
        "best_score = min(m3.history['val_loss'])"
      ],
      "execution_count": null,
      "outputs": []
    },
    {
      "cell_type": "code",
      "metadata": {
        "id": "ywpOZ6PMZkey"
      },
      "source": [
        "losses = pd.DataFrame(m3.history.history)\n",
        "print(losses)"
      ],
      "execution_count": null,
      "outputs": []
    },
    {
      "cell_type": "code",
      "metadata": {
        "id": "Zayef0Ubx-IV"
      },
      "source": [
        ""
      ],
      "execution_count": null,
      "outputs": []
    },
    {
      "cell_type": "code",
      "metadata": {
        "id": "RDyjmk7SZ5TV"
      },
      "source": [
        "losses[['accuracy','val_accuracy']].plot()"
      ],
      "execution_count": null,
      "outputs": []
    },
    {
      "cell_type": "code",
      "metadata": {
        "id": "3hMBvwqcZ7Cc"
      },
      "source": [
        "print(model.metrics_names)\n",
        "print(model.evaluate(X_test,Y_test,verbose=0))"
      ],
      "execution_count": null,
      "outputs": []
    },
    {
      "cell_type": "code",
      "metadata": {
        "id": "YKUkHM-WZ_TU"
      },
      "source": [
        "from sklearn.metrics import classification_report,confusion_matrix\n",
        "predictions = model.predict_classes(X_test)\n"
      ],
      "execution_count": null,
      "outputs": []
    },
    {
      "cell_type": "code",
      "metadata": {
        "colab": {
          "base_uri": "https://localhost:8080/"
        },
        "id": "Bc0i11kmudxz",
        "outputId": "f2b519cb-1e3c-48e1-e61d-0b15fcd936b8"
      },
      "source": [
        "m6 = Sequential()\n",
        "m6.add(Embedding(nb_words,160, input_length = MAX_SEQUENCE_LENGTH))\n",
        "m6.add(Conv1D(160, 7, activation = 'relu',input_shape=(None,MAX_SEQUENCE_LENGTH)))\n",
        "m6.add(MaxPooling1D(2))\n",
        "m6.add(Conv1D(100, 7, activation = 'relu',input_shape=(None,100)))\n",
        "m6.add(MaxPooling1D(3))\n",
        "m6.add(GRU(160, dropout = 0.1, recurrent_dropout = 0.3))\n",
        "m6.add(Dense(3, activation = 'softmax'))\n",
        "m6.compile(optimizer = 'adam', loss = 'binary_crossentropy', metrics = ['acc'])\n",
        "\n",
        "m6.summary()"
      ],
      "execution_count": null,
      "outputs": [
        {
          "output_type": "stream",
          "text": [
            "WARNING:tensorflow:Layer gru_2 will not use cuDNN kernel since it doesn't meet the cuDNN kernel criteria. It will use generic GPU kernel as fallback when running on GPU\n",
            "Model: \"sequential_3\"\n",
            "_________________________________________________________________\n",
            "Layer (type)                 Output Shape              Param #   \n",
            "=================================================================\n",
            "embedding_3 (Embedding)      (None, 100, 160)          480000    \n",
            "_________________________________________________________________\n",
            "conv1d_3 (Conv1D)            (None, 94, 160)           179360    \n",
            "_________________________________________________________________\n",
            "max_pooling1d_3 (MaxPooling1 (None, 47, 160)           0         \n",
            "_________________________________________________________________\n",
            "conv1d_4 (Conv1D)            (None, 41, 100)           112100    \n",
            "_________________________________________________________________\n",
            "max_pooling1d_4 (MaxPooling1 (None, 13, 100)           0         \n",
            "_________________________________________________________________\n",
            "gru_2 (GRU)                  (None, 160)               125760    \n",
            "_________________________________________________________________\n",
            "dense_2 (Dense)              (None, 3)                 483       \n",
            "=================================================================\n",
            "Total params: 897,703\n",
            "Trainable params: 897,703\n",
            "Non-trainable params: 0\n",
            "_________________________________________________________________\n"
          ],
          "name": "stdout"
        }
      ]
    },
    {
      "cell_type": "code",
      "metadata": {
        "id": "tl5DGiHdrD6M"
      },
      "source": [
        "training_cycle = 1\n",
        "batch = 32 \n",
        "epoch = 40\n",
        "checkpoint_filepath = '/tmp/checkpoint'\n",
        "\n",
        "early_stopping = EarlyStopping(patience = 3)\n",
        "model_checkpoint = ModelCheckpoint(filepath=checkpoint_filepath,save_best_only = True)"
      ],
      "execution_count": null,
      "outputs": []
    },
    {
      "cell_type": "code",
      "metadata": {
        "colab": {
          "base_uri": "https://localhost:8080/"
        },
        "id": "KOlm9aPNflyk",
        "outputId": "1172fe10-fe1a-420d-bf38-c80c65549990"
      },
      "source": [
        "m6.fit(X_train, Y_train, batch_size=batch, epochs=epoch,validation_data=(X_val, Y_val), shuffle = True, callbacks = [early_stopping,model_checkpoint], verbose = 0)\n",
        "\n"
      ],
      "execution_count": null,
      "outputs": [
        {
          "output_type": "stream",
          "text": [
            "INFO:tensorflow:Assets written to: /tmp/checkpoint/assets\n"
          ],
          "name": "stdout"
        },
        {
          "output_type": "execute_result",
          "data": {
            "text/plain": [
              "<tensorflow.python.keras.callbacks.History at 0x7f22035ebed0>"
            ]
          },
          "metadata": {
            "tags": []
          },
          "execution_count": 55
        }
      ]
    },
    {
      "cell_type": "code",
      "metadata": {
        "colab": {
          "base_uri": "https://localhost:8080/"
        },
        "id": "MoGKcP4vjUBr",
        "outputId": "d952c0aa-bf2b-4704-eb2c-f894136a9290"
      },
      "source": [
        "losses = pd.DataFrame(m6.history.history)\n",
        "print(losses)"
      ],
      "execution_count": null,
      "outputs": [
        {
          "output_type": "stream",
          "text": [
            "       loss       acc  val_loss   val_acc\n",
            "0  0.130314  0.924607  0.404196  0.811786\n",
            "1  0.107894  0.938899  0.427885  0.806166\n",
            "2  0.094052  0.947222  0.444739  0.812910\n",
            "3  0.082763  0.953717  0.465604  0.813451\n"
          ],
          "name": "stdout"
        }
      ]
    },
    {
      "cell_type": "code",
      "metadata": {
        "colab": {
          "base_uri": "https://localhost:8080/",
          "height": 285
        },
        "id": "dXZ-eaUQjW-V",
        "outputId": "1f314e2f-a1d1-49c6-9807-57547fe7a54c"
      },
      "source": [
        "losses.plot()"
      ],
      "execution_count": null,
      "outputs": [
        {
          "output_type": "execute_result",
          "data": {
            "text/plain": [
              "<matplotlib.axes._subplots.AxesSubplot at 0x7f2203562e50>"
            ]
          },
          "metadata": {
            "tags": []
          },
          "execution_count": 57
        },
        {
          "output_type": "display_data",
          "data": {
            "image/png": "[encoded data removed]",
            "text/plain": [
              "<Figure size 432x288 with 1 Axes>"
            ]
          },
          "metadata": {
            "tags": []
          }
        }
      ]
    },
    {
      "cell_type": "code",
      "metadata": {
        "colab": {
          "base_uri": "https://localhost:8080/"
        },
        "id": "dn6rSWQDp541",
        "outputId": "00b0ad6b-aceb-4d48-ed9f-5c2995b22633"
      },
      "source": [
        "print(m6.metrics_names)\n",
        "print(m6.evaluate(X_test,Y_test,verbose=0))"
      ],
      "execution_count": null,
      "outputs": [
        {
          "output_type": "stream",
          "text": [
            "['loss', 'acc']\n",
            "[0.4592786133289337, 0.8153204321861267]\n"
          ],
          "name": "stdout"
        }
      ]
    },
    {
      "cell_type": "code",
      "metadata": {
        "id": "B-sYK0RnqEKP"
      },
      "source": [
        "\n",
        "\n",
        "from keras.layers import SimpleRNN\n",
        "model = Sequential()\n",
        "model.add(Embedding(nb_words,EMBEDDING_DIM,input_length=MAX_SEQUENCE_LENGTH))\n",
        "model.add(Conv1D(filters=125, kernel_size=3, padding='same', activation='relu'))\n",
        "model.add(MaxPooling1D(pool_size=2))\n",
        "model.add(SpatialDropout1D(0.4))\n",
        "model.add(SimpleRNN(MAX_SEQUENCE_LENGTH, dropout=0.2, recurrent_dropout=0.2))\n",
        "model.add(Dense(3, activation = 'softmax'))\n",
        "\n",
        "model.compile(loss='categorical_crossentropy',optimizer='adam',metrics=['accuracy'])"
      ],
      "execution_count": 51,
      "outputs": []
    },
    {
      "cell_type": "code",
      "metadata": {
        "colab": {
          "base_uri": "https://localhost:8080/"
        },
        "id": "4u7fB4cvqSB5",
        "outputId": "1ecfe761-1be1-44d7-830f-f0e39bf15d63"
      },
      "source": [
        "model.summary()"
      ],
      "execution_count": null,
      "outputs": [
        {
          "output_type": "stream",
          "text": [
            "Model: \"sequential_1\"\n",
            "_________________________________________________________________\n",
            "Layer (type)                 Output Shape              Param #   \n",
            "=================================================================\n",
            "embedding_1 (Embedding)      (None, 100, 160)          480000    \n",
            "_________________________________________________________________\n",
            "conv1d_1 (Conv1D)            (None, 100, 125)          60125     \n",
            "_________________________________________________________________\n",
            "max_pooling1d_1 (MaxPooling1 (None, 50, 125)           0         \n",
            "_________________________________________________________________\n",
            "spatial_dropout1d_1 (Spatial (None, 50, 125)           0         \n",
            "_________________________________________________________________\n",
            "simple_rnn (SimpleRNN)       (None, 100)               22600     \n",
            "_________________________________________________________________\n",
            "dense_1 (Dense)              (None, 3)                 303       \n",
            "=================================================================\n",
            "Total params: 563,028\n",
            "Trainable params: 563,028\n",
            "Non-trainable params: 0\n",
            "_________________________________________________________________\n"
          ],
          "name": "stdout"
        }
      ]
    },
    {
      "cell_type": "code",
      "metadata": {
        "id": "8IylJ_9Gwmqu"
      },
      "source": [
        "training_cycle = 1\n",
        "batch = 32 \n",
        "epoch = 40\n",
        "checkpoint_filepath = '/tmp/checkpoint'\n",
        "\n",
        "early_stopping = EarlyStopping(patience = 4)\n",
        "model_checkpoint = ModelCheckpoint(filepath=checkpoint_filepath,save_best_only = True)"
      ],
      "execution_count": null,
      "outputs": []
    },
    {
      "cell_type": "code",
      "metadata": {
        "colab": {
          "base_uri": "https://localhost:8080/"
        },
        "id": "G1AZgWiQwz6C",
        "outputId": "ef96967c-8ecd-4187-fb77-589bffd4ffac"
      },
      "source": [
        "model.fit(X_train, Y_train, batch_size=batch, epochs=epoch,validation_data=(X_val, Y_val), shuffle = True, callbacks = [early_stopping,model_checkpoint], verbose = 0)\n",
        "\n"
      ],
      "execution_count": null,
      "outputs": [
        {
          "output_type": "stream",
          "text": [
            "INFO:tensorflow:Assets written to: /tmp/checkpoint/assets\n"
          ],
          "name": "stdout"
        }
      ]
    },
    {
      "cell_type": "code",
      "metadata": {
        "colab": {
          "base_uri": "https://localhost:8080/"
        },
        "id": "fxiyCcGOw3Yd",
        "outputId": "41e9a0e2-d6c3-4d06-cf24-3eae2a6abd40"
      },
      "source": [
        "losses = pd.DataFrame(model.history.history)\n",
        "print(losses)"
      ],
      "execution_count": null,
      "outputs": [
        {
          "output_type": "stream",
          "text": [
            "        loss  accuracy  val_loss  val_accuracy\n",
            "0   0.668335  0.742589  0.650882      0.767032\n",
            "1   0.604938  0.771136  0.604136      0.771653\n",
            "2   0.601496  0.769879  0.611578      0.769718\n",
            "3   0.576020  0.779549  0.601291      0.771737\n",
            "4   0.549069  0.790915  0.586602      0.781582\n",
            "5   0.537082  0.796847  0.596862      0.771549\n",
            "6   0.529864  0.799122  0.593858      0.777107\n",
            "7   0.516362  0.803386  0.588492      0.778502\n",
            "8   0.507152  0.805608  0.580712      0.779834\n",
            "9   0.500406  0.809854  0.585109      0.781437\n",
            "10  0.491439  0.813717  0.581896      0.786849\n",
            "11  0.486866  0.815484  0.595694      0.778065\n",
            "12  0.481541  0.818160  0.592971      0.783997\n"
          ],
          "name": "stdout"
        }
      ]
    },
    {
      "cell_type": "code",
      "metadata": {
        "colab": {
          "base_uri": "https://localhost:8080/"
        },
        "id": "iEcHZMJ5xgEN",
        "outputId": "0af0fbd4-d968-42b2-b69f-21855ff581e5"
      },
      "source": [
        "print(model.metrics_names)\n",
        "print(model.evaluate(X_test,Y_test,verbose=0))"
      ],
      "execution_count": null,
      "outputs": [
        {
          "output_type": "stream",
          "text": [
            "['loss', 'accuracy']\n",
            "[0.5930810570716858, 0.7831534743309021]\n"
          ],
          "name": "stdout"
        }
      ]
    },
    {
      "cell_type": "code",
      "metadata": {
        "colab": {
          "base_uri": "https://localhost:8080/"
        },
        "id": "DrOBAeawDfXt",
        "outputId": "acf74e58-cded-43cc-aada-12eeaef0c004"
      },
      "source": [
        "\n",
        "\n",
        "from keras.layers import SimpleRNN\n",
        "from keras.layers import GRU,LSTM\n",
        "\n",
        "\n",
        "model = Sequential()\n",
        "model.add(Embedding(nb_words,EMBEDDING_DIM,input_length=MAX_SEQUENCE_LENGTH))\n",
        "model.add(LSTM(125, dropout=0.2,recurrent_dropout=0.2,activation='relu',return_sequences=True))\n",
        "model.add(MaxPooling1D(pool_size=2))\n",
        "model.add(SpatialDropout1D(0.4))\n",
        "model.add(SimpleRNN(MAX_SEQUENCE_LENGTH, dropout=0.2, recurrent_dropout=0.2))\n",
        "model.add(Dense(3, activation = 'softmax'))\n",
        "\n",
        "model.compile(loss='categorical_crossentropy',optimizer='adam',metrics=['accuracy'])\n",
        "model.summary()"
      ],
      "execution_count": null,
      "outputs": [
        {
          "output_type": "stream",
          "text": [
            "WARNING:tensorflow:Layer lstm_1 will not use cuDNN kernel since it doesn't meet the cuDNN kernel criteria. It will use generic GPU kernel as fallback when running on GPU\n",
            "Model: \"sequential_1\"\n",
            "_________________________________________________________________\n",
            "Layer (type)                 Output Shape              Param #   \n",
            "=================================================================\n",
            "embedding_1 (Embedding)      (None, 100, 160)          480000    \n",
            "_________________________________________________________________\n",
            "lstm_1 (LSTM)                (None, 100, 125)          143000    \n",
            "_________________________________________________________________\n",
            "max_pooling1d_1 (MaxPooling1 (None, 50, 125)           0         \n",
            "_________________________________________________________________\n",
            "spatial_dropout1d_1 (Spatial (None, 50, 125)           0         \n",
            "_________________________________________________________________\n",
            "simple_rnn (SimpleRNN)       (None, 100)               22600     \n",
            "_________________________________________________________________\n",
            "dense_1 (Dense)              (None, 3)                 303       \n",
            "=================================================================\n",
            "Total params: 645,903\n",
            "Trainable params: 645,903\n",
            "Non-trainable params: 0\n",
            "_________________________________________________________________\n"
          ],
          "name": "stdout"
        }
      ]
    },
    {
      "cell_type": "code",
      "metadata": {
        "id": "fnufakJcD8xy"
      },
      "source": [
        "training_cycle = 1\n",
        "batch = 32 \n",
        "epoch = 40\n",
        "checkpoint_filepath = '/tmp/checkpoint'\n",
        "\n",
        "early_stopping = EarlyStopping(patience = 4)\n",
        "model_checkpoint = ModelCheckpoint(filepath=checkpoint_filepath,save_best_only = True)"
      ],
      "execution_count": null,
      "outputs": []
    },
    {
      "cell_type": "code",
      "metadata": {
        "colab": {
          "background_save": true,
          "base_uri": "https://localhost:8080/"
        },
        "id": "H7JskJLQEP7_",
        "outputId": "d9a8efe2-25d3-4ef2-fc15-16b2fa15062a"
      },
      "source": [
        "model.fit(X_train, Y_train, batch_size=batch, epochs=epoch,validation_data=(X_val, Y_val), shuffle = True, callbacks = [early_stopping,model_checkpoint], verbose = 0)\n",
        "\n"
      ],
      "execution_count": null,
      "outputs": [
        {
          "output_type": "stream",
          "text": [
            "INFO:tensorflow:Assets written to: /tmp/checkpoint/assets\n",
            "INFO:tensorflow:Assets written to: /tmp/checkpoint/assets\n",
            "INFO:tensorflow:Assets written to: /tmp/checkpoint/assets\n",
            "INFO:tensorflow:Assets written to: /tmp/checkpoint/assets\n"
          ],
          "name": "stdout"
        },
        {
          "output_type": "execute_result",
          "data": {
            "text/plain": [
              "<tensorflow.python.keras.callbacks.History at 0x7f9771376210>"
            ]
          },
          "metadata": {
            "tags": []
          },
          "execution_count": 0
        }
      ]
    },
    {
      "cell_type": "code",
      "metadata": {
        "id": "ZaG3gLIGETvI",
        "colab": {
          "base_uri": "https://localhost:8080/"
        },
        "outputId": "8b1a1e1a-594e-4258-c5fd-17ce532e0437"
      },
      "source": [
        "print(model.metrics_names)\n",
        "print(model.evaluate(X_test,Y_test,verbose=0))"
      ],
      "execution_count": null,
      "outputs": [
        {
          "output_type": "stream",
          "text": [
            "[]\n",
            "[1.0051172971725464, 0.6570664644241333]\n"
          ],
          "name": "stdout"
        }
      ]
    },
    {
      "cell_type": "code",
      "metadata": {
        "id": "nk0r0RpBEXGk",
        "colab": {
          "base_uri": "https://localhost:8080/"
        },
        "outputId": "5b37e59a-5808-4c9e-fa61-c6d2a0292580"
      },
      "source": [
        "losses = pd.DataFrame(model.history.history)\n",
        "print(losses)"
      ],
      "execution_count": null,
      "outputs": [
        {
          "output_type": "stream",
          "text": [
            "Empty DataFrame\n",
            "Columns: []\n",
            "Index: []\n"
          ],
          "name": "stdout"
        }
      ]
    },
    {
      "cell_type": "code",
      "metadata": {
        "id": "IgYICq4zOqCW"
      },
      "source": [
        ""
      ],
      "execution_count": null,
      "outputs": []
    },
    {
      "cell_type": "code",
      "metadata": {
        "id": "WkGOD3LfOv7l"
      },
      "source": [
        ""
      ],
      "execution_count": null,
      "outputs": []
    }
  ]
}